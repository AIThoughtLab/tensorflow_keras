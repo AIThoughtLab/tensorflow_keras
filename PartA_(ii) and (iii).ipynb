{
 "cells": [
  {
   "cell_type": "code",
   "execution_count": 1,
   "metadata": {},
   "outputs": [],
   "source": [
    "import tensorflow as tf\n",
    "import numpy as np\n",
    "import pylab \n",
    "from sklearn import preprocessing\n",
    "from sklearn.model_selection import train_test_split\n",
    "from sklearn.preprocessing import StandardScaler\n",
    "import matplotlib.pyplot as plt\n",
    "%matplotlib inline\n",
    "import time\n",
    "tf.reset_default_graph()"
   ]
  },
  {
   "cell_type": "code",
   "execution_count": 4,
   "metadata": {},
   "outputs": [],
   "source": [
    "def loadData():\n",
    "    fashion_mnist = tf.keras.datasets.fashion_mnist\n",
    "    (train_images, train_labels), (x_test, y_test) = fashion_mnist.load_data()\n",
    "    print(train_images.shape)\n",
    "    x_train, x_valid, y_train, y_valid = train_test_split(train_images, train_labels, test_size=0.1, random_state=1)\n",
    "\n",
    "    #reshape the data\n",
    "    x_train = x_train.reshape(x_train.shape[0], -1).astype('float32')\n",
    "    x_valid = x_valid.reshape(x_valid.shape[0], -1).astype('float32')\n",
    "    x_test = x_test.reshape(x_test.shape[0], -1).astype('float32')\n",
    "\n",
    "    # Normalize\n",
    "    x_train = x_train/255.0\n",
    "    x_valid = x_valid/255.0\n",
    "    x_test = x_test/255.0\n",
    "    \n",
    "    #Transpose of the matrix\n",
    "    x_train = x_train.T\n",
    "    x_valid = x_valid.T\n",
    "    x_test = x_test.T\n",
    "\n",
    "    # Convert labels to one-hot-encoded\n",
    "    number_of_classes = 10\n",
    "    y_train = tf.keras.utils.to_categorical(y_train, number_of_classes)\n",
    "    y_valid = tf.keras.utils.to_categorical(y_valid, number_of_classes)\n",
    "    y_test = tf.keras.utils.to_categorical(y_test, number_of_classes)\n",
    "    print(y_train[0])\n",
    "    print(y_train[1])\n",
    "    \n",
    "    # transpose the labels\n",
    "    y_train = y_train.T\n",
    "    y_valid = y_valid.T\n",
    "    y_test = y_test.T\n",
    "\n",
    "    print (\"Reshaped Data: \")\n",
    "    print(x_train.shape, y_train.shape, x_valid.shape, y_valid.shape, x_test.shape, y_test.shape)\n",
    "    #print (train_images.shape, train_labels.shape, test_images.shape, test_labels.shape)\n",
    "    return x_train, y_train, x_valid, y_valid, x_test, y_test\n",
    "    #(54000, 784) (54000, 10) (6000, 784) (6000, 10) (10000, 784) (10000, 10) \n"
   ]
  },
  {
   "cell_type": "code",
   "execution_count": 5,
   "metadata": {},
   "outputs": [
    {
     "name": "stdout",
     "output_type": "stream",
     "text": [
      "(60000, 28, 28)\n",
      "[0. 0. 0. 1. 0. 0. 0. 0. 0. 0.]\n",
      "[0. 0. 0. 0. 0. 0. 0. 0. 0. 1.]\n",
      "Reshaped Data: \n",
      "(784, 54000) (10, 54000) (784, 6000) (10, 6000) (784, 10000) (10, 10000)\n"
     ]
    }
   ],
   "source": [
    "x_train, y_train, x_valid, y_valid, x_test, y_test = loadData()"
   ]
  },
  {
   "cell_type": "code",
   "execution_count": 15,
   "metadata": {},
   "outputs": [],
   "source": [
    "# Model building\n",
    "def main(x_train, y_train, x_valid, y_valid, x_test, y_test):\n",
    "    n_inputs = 784\n",
    "    n_hidden_1 = 300\n",
    "    n_hidden_2 = 100\n",
    "    n_output = 10\n",
    "    learningRate = 0.01\n",
    "    n_epochs = 40\n",
    "  \n",
    "    # Placeholders for the traing and label data    \n",
    "    x = tf.placeholder(tf.float32, [n_inputs, None], name='image')    \n",
    "    y = tf.placeholder(tf.float32, [n_output, None], name='label')\n",
    "   # tf.get_variable(\"W1\", [n_hidden, n_inputs],initializer = tf.glorot_uniform_initializer(seed=1) )\n",
    "    # Create weight and bias matrices (variables) for each layer of our network\n",
    "    W1 = tf.Variable(tf.random_normal([n_hidden_1, n_inputs], mean=0.0, stddev= 0.9)) # 784 = 28 * 28\n",
    "    b1 = tf.Variable(tf.zeros([n_hidden_1, 1]))\n",
    "\n",
    "    W2 = tf.Variable(tf.random_normal([n_hidden_2, n_hidden_1], mean=0.0, stddev= 0.05)) # 784 = 28 * 28\n",
    "    b2 = tf.Variable(tf.zeros([n_hidden_2, 1]))\n",
    "\n",
    "    W3 = tf.Variable(tf.random_normal([n_output, n_hidden_2], mean=0.0, stddev=0.005)) # 784 = 28 * 28\n",
    "    b3 = tf.Variable(tf.zeros([n_output, 1]))\n",
    "  \n",
    "    # Push feature data through layers of NN\n",
    "    layer_1  = tf.nn.relu(tf.add(tf.matmul(W1, x), b1))\n",
    "    layer_2 = tf.nn.relu(tf.add(tf.matmul(W2, layer_1), b2))\n",
    "    layer_3 = tf.add(tf.matmul(W3, layer_2), b3)\n",
    "\n",
    "    soft_max = tf.nn.softmax(layer_3)\n",
    "  \n",
    "    err = tf.nn.sigmoid_cross_entropy_with_logits(labels=y, logits=layer_3)\n",
    "    loss = tf.reduce_mean(err)\n",
    "    optimizer = tf.train.GradientDescentOptimizer(learningRate).minimize(loss)\n",
    "\n",
    "    # Calculate the correct predictions\n",
    "    correct_prediction = tf.equal(tf.argmax(soft_max), tf.argmax(y))\n",
    "\n",
    "   # Calculate accuracy on the test set\n",
    "    accuracy = tf.reduce_mean(tf.cast(correct_prediction, \"float\"))\n",
    "    \n",
    "    with tf.Session() as sess:\n",
    "        train_loss_list = []\n",
    "        val_loss_list = []\n",
    "        epoch_list = []\n",
    "        #epoch_list1 = []\n",
    "        train_acc_list = []\n",
    "        val_acc_list = []\n",
    "        start_time = time.time()\n",
    "        sess.run(tf.global_variables_initializer())\n",
    "        \n",
    "        for epoch in range(n_epochs):\n",
    "            _, train_loss, train_acc  = sess.run([optimizer, loss, accuracy], feed_dict={x: x_train, y: y_train})\n",
    "            _, val_loss, val_acc  = sess.run([optimizer, loss, accuracy], feed_dict={x: x_valid, y: y_valid})\n",
    "\n",
    "            train_loss_list.append(train_loss)\n",
    "            epoch_list.append(epoch)\n",
    "            train_acc_list.append(train_acc)\n",
    "            ##-------------------------------\n",
    "            val_loss_list.append(val_loss)\n",
    "            #epoch_list.append(epoch)\n",
    "            val_acc_list.append(val_acc) \n",
    "            \n",
    "            print (\"Epoch \", epoch, \" Train Loss: \", train_loss, \"  Train Acc: \", train_acc)\n",
    "            print (\"Epoch \", epoch, \" Val Loss: \", val_loss, \"  Val Acc: \", val_acc)\n",
    "\n",
    "        duration = time.time() - start_time\n",
    "\n",
    "        pylab.plot(epoch_list, val_loss_list, '-or', label = 'val_loss')\n",
    "        pylab.plot(epoch_list, train_acc_list, '-ob', label = 'train_accuracy')\n",
    "        pylab.plot(epoch_list, val_acc_list, '-ok', label = 'val_accuracy')\n",
    "        pylab.plot(epoch_list, train_loss_list, 'purple', label = 'train_loss_list')\n",
    "        pylab.legend(loc='bottom right')\n",
    "        plt.xlabel('Epochs')\n",
    "        pylab.show()\n",
    "        print(\"Total time is: \", round(duration, 2), \"seconds\")\n",
    "        print (\"Final Validation Accuracy \", sess.run(accuracy, feed_dict={x: x_valid, y: y_valid}))\n",
    "        print (\"Final Test Accuracy \", sess.run(accuracy, feed_dict={x: x_test, y: y_test}))"
   ]
  },
  {
   "cell_type": "code",
   "execution_count": 16,
   "metadata": {},
   "outputs": [
    {
     "name": "stdout",
     "output_type": "stream",
     "text": [
      "Epoch  0  Train Loss:  0.67268467   Train Acc:  0.15083334\n",
      "Epoch  0  Val Loss:  0.45752245   Val Acc:  0.18933333\n",
      "Epoch  1  Train Loss:  0.3979095   Train Acc:  0.23522222\n",
      "Epoch  1  Val Loss:  0.3722771   Val Acc:  0.267\n",
      "Epoch  2  Train Loss:  0.3594725   Train Acc:  0.3125926\n",
      "Epoch  2  Val Loss:  0.35152233   Val Acc:  0.33616668\n",
      "Epoch  3  Train Loss:  0.34623393   Train Acc:  0.3726852\n",
      "Epoch  3  Val Loss:  0.34246412   Val Acc:  0.39616665\n",
      "Epoch  4  Train Loss:  0.339185   Train Acc:  0.41809258\n",
      "Epoch  4  Val Loss:  0.33680707   Val Acc:  0.4365\n",
      "Epoch  5  Train Loss:  0.334203   Train Acc:  0.45355555\n",
      "Epoch  5  Val Loss:  0.33239314   Val Acc:  0.46633333\n",
      "Epoch  6  Train Loss:  0.33005705   Train Acc:  0.48314816\n",
      "Epoch  6  Val Loss:  0.32851973   Val Acc:  0.496\n",
      "Epoch  7  Train Loss:  0.3263116   Train Acc:  0.508\n",
      "Epoch  7  Val Loss:  0.32492644   Val Acc:  0.51816666\n",
      "Epoch  8  Train Loss:  0.32279405   Train Acc:  0.52892596\n",
      "Epoch  8  Val Loss:  0.32150677   Val Acc:  0.5391667\n",
      "Epoch  9  Train Loss:  0.31943038   Train Acc:  0.5476852\n",
      "Epoch  9  Val Loss:  0.31821328   Val Acc:  0.55483335\n",
      "Epoch  10  Train Loss:  0.316182   Train Acc:  0.56374073\n",
      "Epoch  10  Val Loss:  0.3150218   Val Acc:  0.5706667\n",
      "Epoch  11  Train Loss:  0.31303212   Train Acc:  0.57764816\n",
      "Epoch  11  Val Loss:  0.31192026   Val Acc:  0.58283335\n",
      "Epoch  12  Train Loss:  0.3099709   Train Acc:  0.589537\n",
      "Epoch  12  Val Loss:  0.30890098   Val Acc:  0.5898333\n",
      "Epoch  13  Train Loss:  0.30698952   Train Acc:  0.5992037\n",
      "Epoch  13  Val Loss:  0.30595872   Val Acc:  0.5988333\n",
      "Epoch  14  Train Loss:  0.3040833   Train Acc:  0.60716665\n",
      "Epoch  14  Val Loss:  0.30308926   Val Acc:  0.60733336\n",
      "Epoch  15  Train Loss:  0.30124947   Train Acc:  0.6155\n",
      "Epoch  15  Val Loss:  0.30028895   Val Acc:  0.61266667\n",
      "Epoch  16  Train Loss:  0.29848397   Train Acc:  0.62112963\n",
      "Epoch  16  Val Loss:  0.29755685   Val Acc:  0.61766666\n",
      "Epoch  17  Train Loss:  0.29578614   Train Acc:  0.6272037\n",
      "Epoch  17  Val Loss:  0.29488912   Val Acc:  0.6243333\n",
      "Epoch  18  Train Loss:  0.29315045   Train Acc:  0.63211113\n",
      "Epoch  18  Val Loss:  0.29228464   Val Acc:  0.62916666\n",
      "Epoch  19  Train Loss:  0.29057768   Train Acc:  0.6363148\n",
      "Epoch  19  Val Loss:  0.289741   Val Acc:  0.63383335\n",
      "Epoch  20  Train Loss:  0.28806597   Train Acc:  0.64051855\n",
      "Epoch  20  Val Loss:  0.2872568   Val Acc:  0.63883334\n",
      "Epoch  21  Train Loss:  0.2856104   Train Acc:  0.6438148\n",
      "Epoch  21  Val Loss:  0.2848299   Val Acc:  0.6415\n",
      "Epoch  22  Train Loss:  0.28321373   Train Acc:  0.64685184\n",
      "Epoch  22  Val Loss:  0.2824597   Val Acc:  0.64433336\n",
      "Epoch  23  Train Loss:  0.280872   Train Acc:  0.64975923\n",
      "Epoch  23  Val Loss:  0.2801437   Val Acc:  0.64716667\n",
      "Epoch  24  Train Loss:  0.27858213   Train Acc:  0.65187037\n",
      "Epoch  24  Val Loss:  0.27788168   Val Acc:  0.6498333\n",
      "Epoch  25  Train Loss:  0.2763458   Train Acc:  0.6540926\n",
      "Epoch  25  Val Loss:  0.27567086   Val Acc:  0.65183336\n",
      "Epoch  26  Train Loss:  0.27416024   Train Acc:  0.6566111\n",
      "Epoch  26  Val Loss:  0.27351078   Val Acc:  0.65533334\n",
      "Epoch  27  Train Loss:  0.2720246   Train Acc:  0.6588333\n",
      "Epoch  27  Val Loss:  0.27139968   Val Acc:  0.6575\n",
      "Epoch  28  Train Loss:  0.26993674   Train Acc:  0.6612037\n",
      "Epoch  28  Val Loss:  0.26933655   Val Acc:  0.6601667\n",
      "Epoch  29  Train Loss:  0.2678962   Train Acc:  0.662963\n",
      "Epoch  29  Val Loss:  0.26732016   Val Acc:  0.6613333\n",
      "Epoch  30  Train Loss:  0.26590195   Train Acc:  0.66448146\n",
      "Epoch  30  Val Loss:  0.2653491   Val Acc:  0.66216666\n",
      "Epoch  31  Train Loss:  0.26395157   Train Acc:  0.666037\n",
      "Epoch  31  Val Loss:  0.26342276   Val Acc:  0.6626667\n",
      "Epoch  32  Train Loss:  0.26204422   Train Acc:  0.6677963\n",
      "Epoch  32  Val Loss:  0.26153967   Val Acc:  0.6645\n",
      "Epoch  33  Train Loss:  0.2601809   Train Acc:  0.6696852\n",
      "Epoch  33  Val Loss:  0.25969827   Val Acc:  0.6651667\n",
      "Epoch  34  Train Loss:  0.25835776   Train Acc:  0.6714074\n",
      "Epoch  34  Val Loss:  0.2578984   Val Acc:  0.66716665\n",
      "Epoch  35  Train Loss:  0.2565751   Train Acc:  0.67264813\n",
      "Epoch  35  Val Loss:  0.25613853   Val Acc:  0.669\n",
      "Epoch  36  Train Loss:  0.2548314   Train Acc:  0.67418516\n",
      "Epoch  36  Val Loss:  0.25441706   Val Acc:  0.6706667\n",
      "Epoch  37  Train Loss:  0.2531263   Train Acc:  0.67572224\n",
      "Epoch  37  Val Loss:  0.2527338   Val Acc:  0.67216665\n",
      "Epoch  38  Train Loss:  0.25145754   Train Acc:  0.6776111\n",
      "Epoch  38  Val Loss:  0.25108737   Val Acc:  0.673\n",
      "Epoch  39  Train Loss:  0.24982616   Train Acc:  0.67862964\n",
      "Epoch  39  Val Loss:  0.24947685   Val Acc:  0.674\n"
     ]
    },
    {
     "name": "stderr",
     "output_type": "stream",
     "text": [
      "/home/m/anaconda3/envs/tensorflow_gpuenv/lib/python3.6/site-packages/matplotlib/legend.py:641: UserWarning: Unrecognized location \"bottom right\". Falling back on \"best\"; valid locations are\n",
      "\tbest\n",
      "\tupper right\n",
      "\tupper left\n",
      "\tlower left\n",
      "\tlower right\n",
      "\tright\n",
      "\tcenter left\n",
      "\tcenter right\n",
      "\tlower center\n",
      "\tupper center\n",
      "\tcenter\n",
      "\n",
      "  % (loc, '\\n\\t'.join(self.codes)))\n"
     ]
    },
    {
     "data": {
      "image/png": "[encoded data removed]",
      "text/plain": [
       "<Figure size 432x288 with 1 Axes>"
      ]
     },
     "metadata": {
      "needs_background": "light"
     },
     "output_type": "display_data"
    },
    {
     "name": "stdout",
     "output_type": "stream",
     "text": [
      "Total time is:  28.35 seconds\n",
      "Final Validation Accuracy  0.6755\n",
      "Final Test Accuracy  0.6767\n"
     ]
    }
   ],
   "source": [
    "main(x_train, y_train, x_valid, y_valid, x_test, y_test)"
   ]
  },
  {
   "cell_type": "code",
   "execution_count": 17,
   "metadata": {},
   "outputs": [
    {
     "name": "stdout",
     "output_type": "stream",
     "text": [
      "(784, 54000) (10, 54000) (784, 6000) (10, 6000) (784, 10000) (10, 10000)\n",
      "(54000, 784) (54000, 10) (6000, 784) (6000, 10) (10000, 784) (10000, 10)\n"
     ]
    }
   ],
   "source": [
    "print(x_train.shape, y_train.shape, x_valid.shape, y_valid.shape, x_test.shape, y_test.shape)\n",
    "x_train = x_train.T\n",
    "y_train = y_train.T\n",
    "x_valid = x_valid.T\n",
    "y_valid = y_valid.T\n",
    "x_test = x_test.T\n",
    "y_test = y_test.T\n",
    "print(x_train.shape, y_train.shape, x_valid.shape, y_valid.shape, x_test.shape, y_test.shape)\n",
    "#print(len(x_train))"
   ]
  },
  {
   "cell_type": "code",
   "execution_count": 30,
   "metadata": {},
   "outputs": [],
   "source": [
    "def getBatch(x, y, begin, end):\n",
    "    x_miniBatch = x[begin:end]\n",
    "    y_miniBatch = y[begin:end]\n",
    "    return x_miniBatch, y_miniBatch\n",
    "\n",
    "# Model building\n",
    "def main(x_train, y_train, x_valid, y_valid, x_test, y_test, size):\n",
    "    # Model Parameters\n",
    "    n_inputs = 784\n",
    "    n_hidden_1 = 300\n",
    "    n_hidden_2 = 100\n",
    "    n_output = 10\n",
    "    learningRate = 0.01\n",
    "    n_epochs = 40\n",
    "    batchSize = size\n",
    "    # Placeholders for the traing and label data    \n",
    "    x = tf.placeholder(tf.float32, [n_inputs, None], name='image')    \n",
    "    y = tf.placeholder(tf.float32, [n_output, None], name='label')\n",
    "   # tf.get_variable(\"W1\", [n_hidden, n_inputs],initializer = tf.glorot_uniform_initializer(seed=1) )\n",
    "    # Create weight and bias matrices (variables) for each layer of our network\n",
    "    W1 = tf.Variable(tf.random_normal([n_hidden_1, n_inputs], mean=0.0, stddev= 0.9)) # 784 = 28 * 28\n",
    "    b1 = tf.Variable(tf.zeros([n_hidden_1, 1]))\n",
    "\n",
    "    W2 = tf.Variable(tf.random_normal([n_hidden_2, n_hidden_1], mean=0.0, stddev= 0.05)) # 784 = 28 * 28\n",
    "    b2 = tf.Variable(tf.zeros([n_hidden_2, 1]))\n",
    "\n",
    "    W3 = tf.Variable(tf.random_normal([n_output, n_hidden_2], mean=0.0, stddev=0.005)) # 784 = 28 * 28\n",
    "    b3 = tf.Variable(tf.zeros([n_output, 1]))\n",
    "  \n",
    "    # Push feature data through layers of NN\n",
    "    layer_1  = tf.nn.relu(tf.add(tf.matmul(W1, x), b1))\n",
    "    layer_2 = tf.nn.relu(tf.add(tf.matmul(W2, layer_1), b2))\n",
    "    layer_3 = tf.add(tf.matmul(W3, layer_2), b3)\n",
    "\n",
    "    soft_max = tf.nn.softmax(layer_3)\n",
    "  \n",
    "    err = tf.nn.sigmoid_cross_entropy_with_logits(labels=y, logits=layer_3)\n",
    "    loss = tf.reduce_mean(err)\n",
    "    optimizer = tf.train.GradientDescentOptimizer(learningRate).minimize(loss)\n",
    "\n",
    "    # Calculate the correct predictions\n",
    "    correct_prediction = tf.equal(tf.argmax(soft_max), tf.argmax(y))\n",
    "\n",
    "   # Calculate accuracy on the test set\n",
    "    accuracy = tf.reduce_mean(tf.cast(correct_prediction, \"float\"))\n",
    "    \n",
    "    with tf.Session() as sess:\n",
    "        loss_list = []\n",
    "        epoch_list = []\n",
    "        acc_list = []\n",
    "        start_time = time.time()\n",
    "        sess.run(tf.global_variables_initializer())\n",
    "        iteration = int(len(x_train)/batchSize)\n",
    "        for epoch in range(n_epochs):\n",
    "            #print('Training epoch: {}'.format(epoch + 1))\n",
    "            for i in range(iteration):\n",
    "                begin = i * batchSize\n",
    "                end = (i + 1) * batchSize\n",
    "                x_short, y_short = getBatch(x_train, y_train, begin, end)\n",
    "                x_short = x_short.T\n",
    "                y_short = y_short.T\n",
    "                feed_dict = {x: x_short, y:y_short}\n",
    "                sess.run(optimizer, feed_dict=feed_dict)\n",
    "                \n",
    "                if i % 100 == 0:\n",
    "                    loss_after_batch, acc_after_batch = sess.run([loss, accuracy],feed_dict=feed_dict)\n",
    "                    #print('iter: ', i, 'Loss: ', loss_after_batch, 'Training Accuracy: ', acc_after_batch)\n",
    "            \n",
    "            feed_dict_test = {x: x_test.T, y: y_test.T}\n",
    "            loss_test, acc_test = sess.run([loss, accuracy], feed_dict=feed_dict_test)\n",
    "            #print('---------*************---------')\n",
    "            #print(\"Test Loss: \", loss_test, \"Test Accuracy: \", acc_test)\n",
    "            return acc_test"
   ]
  },
  {
   "cell_type": "code",
   "execution_count": 35,
   "metadata": {},
   "outputs": [
    {
     "data": {
      "text/plain": [
       "0.7206"
      ]
     },
     "execution_count": 35,
     "metadata": {},
     "output_type": "execute_result"
    }
   ],
   "source": [
    "main(x_train, y_train, x_valid, y_valid, x_test, y_test, 100)"
   ]
  },
  {
   "cell_type": "code",
   "execution_count": 37,
   "metadata": {},
   "outputs": [
    {
     "data": {
      "text/plain": [
       "Text(0,0.5,'Accuracy')"
      ]
     },
     "execution_count": 37,
     "metadata": {},
     "output_type": "execute_result"
    },
    {
     "data": {
      "image/png": "[encoded data removed]",
      "text/plain": [
       "<Figure size 432x288 with 1 Axes>"
      ]
     },
     "metadata": {
      "needs_background": "light"
     },
     "output_type": "display_data"
    }
   ],
   "source": [
    "score_list = []\n",
    "batch_try = []\n",
    "for j in range(1, 1000, 50):\n",
    "    score = main(x_train, y_train, x_valid, y_valid, x_test, y_test, j)\n",
    "    score_list.append(score)\n",
    "    batch_try.append(j)\n",
    "pylab.plot(batch_try, score_list, '-or', label = 'diff_batch')    \n",
    "plt.xlabel('Batch Size')\n",
    "plt.ylabel('Accuracy')"
   ]
  },
  {
   "cell_type": "code",
   "execution_count": null,
   "metadata": {},
   "outputs": [],
   "source": []
  },
  {
   "cell_type": "code",
   "execution_count": null,
   "metadata": {},
   "outputs": [],
   "source": []
  },
  {
   "cell_type": "code",
   "execution_count": null,
   "metadata": {},
   "outputs": [],
   "source": []
  }
 ],
 "metadata": {
  "kernelspec": {
   "display_name": "Python 3",
   "language": "python",
   "name": "python3"
  },
  "language_info": {
   "codemirror_mode": {
    "name": "ipython",
    "version": 3
   },
   "file_extension": ".py",
   "mimetype": "text/x-python",
   "name": "python",
   "nbconvert_exporter": "python",
   "pygments_lexer": "ipython3",
   "version": "3.7.3"
  }
 },
 "nbformat": 4,
 "nbformat_minor": 2
}
