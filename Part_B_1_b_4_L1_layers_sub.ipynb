{
 "cells": [
  {
   "cell_type": "code",
   "execution_count": null,
   "metadata": {},
   "outputs": [],
   "source": [
    "!pip3 install keras\n",
    "#!pip install --upgrade numpy"
   ]
  },
  {
   "cell_type": "code",
   "execution_count": null,
   "metadata": {},
   "outputs": [],
   "source": []
  },
  {
   "cell_type": "code",
   "execution_count": 1,
   "metadata": {},
   "outputs": [
    {
     "name": "stderr",
     "output_type": "stream",
     "text": [
      "Using TensorFlow backend.\n"
     ]
    }
   ],
   "source": [
    "from keras import models\n",
    "from keras import layers\n",
    "from keras import optimizers\n",
    "from sklearn import preprocessing\n",
    "import matplotlib.pyplot as plt\n",
    "import pylab \n",
    "%matplotlib inline\n",
    "import time\n",
    "import tensorflow as tf\n",
    "tf.reset_default_graph()\n",
    "import h5py\n",
    "import numpy as np\n",
    "from keras import regularizers"
   ]
  },
  {
   "cell_type": "code",
   "execution_count": 2,
   "metadata": {},
   "outputs": [
    {
     "name": "stdout",
     "output_type": "stream",
     "text": [
      "List of arrays in this file: \n",
      " KeysView(<HDF5 file \"data.h5\" (mode r)>)\n",
      "Shape of the array dataset_1: \n",
      " (200000, 785)\n",
      "Shape of the array dataset_2: \n",
      " (17000, 785)\n"
     ]
    }
   ],
   "source": [
    "def loadData():\n",
    "    with h5py.File('data.h5','r') as hf:\n",
    "        print('List of arrays in this file: \\n', hf.keys())\n",
    "        allTrain = hf.get('trainData')\n",
    "        allTest = hf.get('testData')\n",
    "        npTrain = np.array(allTrain)\n",
    "        npTest = np.array(allTest)\n",
    "        print('Shape of the array dataset_1: \\n', npTrain.shape)\n",
    "        print('Shape of the array dataset_2: \\n', npTest.shape)\n",
    "    return npTrain[:,:-1], npTrain[:, -1], npTest[:,:-1], npTest[:, -1]\n",
    "\n",
    "x_train, y_train, x_test, y_test = loadData()"
   ]
  },
  {
   "cell_type": "code",
   "execution_count": 3,
   "metadata": {},
   "outputs": [
    {
     "name": "stdout",
     "output_type": "stream",
     "text": [
      "x_train (200000, 784) y_train (200000,) x_test (17000, 784) y_test (17000,)\n"
     ]
    }
   ],
   "source": [
    "# Normalize the x_train and x_test dataset\n",
    "x_train, x_test = x_train / 255.0, x_test / 255.0\n",
    "print(\"x_train\", x_train.shape, \"y_train\", y_train.shape, \"x_test\", x_test.shape, \"y_test\", y_test.shape)"
   ]
  },
  {
   "cell_type": "code",
   "execution_count": 4,
   "metadata": {},
   "outputs": [
    {
     "name": "stdout",
     "output_type": "stream",
     "text": [
      "Train on 180000 samples, validate on 20000 samples\n",
      "Epoch 1/20\n",
      "180000/180000 [==============================] - 13s 72us/step - loss: 2.3030 - acc: 0.0986 - val_loss: 2.3027 - val_acc: 0.0993\n",
      "Epoch 2/20\n",
      "180000/180000 [==============================] - 11s 62us/step - loss: 2.3026 - acc: 0.0991 - val_loss: 2.3026 - val_acc: 0.0989\n",
      "Epoch 3/20\n",
      "180000/180000 [==============================] - 11s 63us/step - loss: 2.3026 - acc: 0.0991 - val_loss: 2.3026 - val_acc: 0.0992\n",
      "Epoch 4/20\n",
      "180000/180000 [==============================] - 11s 63us/step - loss: 2.3027 - acc: 0.0993 - val_loss: 2.3027 - val_acc: 0.0997\n",
      "Epoch 5/20\n",
      "180000/180000 [==============================] - 11s 63us/step - loss: 2.3027 - acc: 0.0986 - val_loss: 2.3026 - val_acc: 0.1024\n",
      "Epoch 6/20\n",
      "180000/180000 [==============================] - 12s 64us/step - loss: 2.3026 - acc: 0.0999 - val_loss: 2.3027 - val_acc: 0.0978\n",
      "Epoch 7/20\n",
      "180000/180000 [==============================] - 12s 64us/step - loss: 2.3026 - acc: 0.1009 - val_loss: 2.3026 - val_acc: 0.0992\n",
      "Epoch 8/20\n",
      "180000/180000 [==============================] - 12s 65us/step - loss: 2.3027 - acc: 0.0994 - val_loss: 2.3027 - val_acc: 0.0997\n",
      "Epoch 9/20\n",
      "180000/180000 [==============================] - 12s 66us/step - loss: 2.3026 - acc: 0.0995 - val_loss: 2.3026 - val_acc: 0.0978\n",
      "Epoch 10/20\n",
      "180000/180000 [==============================] - 12s 65us/step - loss: 2.3026 - acc: 0.1004 - val_loss: 2.3027 - val_acc: 0.0978\n",
      "Epoch 11/20\n",
      "180000/180000 [==============================] - 12s 66us/step - loss: 2.3026 - acc: 0.0995 - val_loss: 2.3028 - val_acc: 0.0989\n",
      "Epoch 12/20\n",
      "180000/180000 [==============================] - 12s 66us/step - loss: 2.3027 - acc: 0.0998 - val_loss: 2.3026 - val_acc: 0.0992\n",
      "Epoch 13/20\n",
      "180000/180000 [==============================] - 12s 66us/step - loss: 2.3026 - acc: 0.0997 - val_loss: 2.3026 - val_acc: 0.0992\n",
      "Epoch 14/20\n",
      "180000/180000 [==============================] - 12s 66us/step - loss: 2.3026 - acc: 0.0990 - val_loss: 2.3026 - val_acc: 0.0978\n",
      "Epoch 15/20\n",
      "180000/180000 [==============================] - 12s 66us/step - loss: 2.3027 - acc: 0.0986 - val_loss: 2.3026 - val_acc: 0.0978\n",
      "Epoch 16/20\n",
      "180000/180000 [==============================] - 12s 67us/step - loss: 2.3026 - acc: 0.1004 - val_loss: 2.3026 - val_acc: 0.0993\n",
      "Epoch 17/20\n",
      "180000/180000 [==============================] - 12s 67us/step - loss: 2.3026 - acc: 0.1002 - val_loss: 2.3026 - val_acc: 0.0989\n",
      "Epoch 18/20\n",
      "180000/180000 [==============================] - 12s 67us/step - loss: 2.3027 - acc: 0.0990 - val_loss: 2.3027 - val_acc: 0.0989\n",
      "Epoch 19/20\n",
      "180000/180000 [==============================] - 13s 71us/step - loss: 2.3027 - acc: 0.0986 - val_loss: 2.3026 - val_acc: 0.0978\n",
      "Epoch 20/20\n",
      "180000/180000 [==============================] - 13s 73us/step - loss: 2.3026 - acc: 0.0994 - val_loss: 2.3027 - val_acc: 0.0978\n",
      "Total time is:  238.42 seconds\n"
     ]
    }
   ],
   "source": [
    "model = models.Sequential()\n",
    "model.add(layers.Dense(600, activation='relu', input_shape=(784,), activity_regularizer=regularizers.l1(0.001)))\n",
    "model.add(layers.Dense(400, activation='relu', activity_regularizer=regularizers.l1(0.001)))\n",
    "model.add(layers.Dense(200, activation='relu', activity_regularizer=regularizers.l1(0.001)))\n",
    "model.add(layers.Dense(10, activation='softmax'))\n",
    "# sgd = optimizers.SGD(lr=0.001, decay=1e-6, momentum=0.9, nesterov=True)         \n",
    "model.compile(optimizer='adam', loss='sparse_categorical_crossentropy', metrics=['accuracy'])\n",
    "#model.compile(loss='mean_squared_error', optimizer=sgd)\n",
    "start_time = time.time()\n",
    "history = model.fit(x_train, y_train, epochs=20, batch_size = 256, validation_split=0.1)\n",
    "duration = time.time() - start_time\n",
    "print(\"Total time is: \", round(duration, 2), \"seconds\")"
   ]
  },
  {
   "cell_type": "code",
   "execution_count": 5,
   "metadata": {},
   "outputs": [
    {
     "name": "stdout",
     "output_type": "stream",
     "text": [
      "Keys:  dict_keys(['val_loss', 'val_acc', 'loss', 'acc'])\n"
     ]
    },
    {
     "data": {
      "image/png": "[encoded data removed]",
      "text/plain": [
       "<Figure size 432x288 with 1 Axes>"
      ]
     },
     "metadata": {
      "needs_background": "light"
     },
     "output_type": "display_data"
    }
   ],
   "source": [
    "history_dict = history.history\n",
    "print(\"Keys: \", history_dict.keys())\n",
    "loss_values = history_dict['loss']\n",
    "val_loss_values = history_dict['val_loss']\n",
    "acc_values = history_dict['acc']\n",
    "val_acc_values = history_dict['val_acc']\n",
    "\n",
    "epochs = range(1, len(history_dict['acc'])+1)\n",
    "\n",
    "def plot_results(loss_values,val_loss_values, epochs, **kwargs):\n",
    "  label1 = kwargs.pop('label1')\n",
    "  plt.plot(epochs, loss_values, 'bo',label = label1)\n",
    "  label2 = kwargs.pop('label2')\n",
    "  plt.plot(epochs, val_loss_values, 'r',label = label2)\n",
    "  title  = kwargs.pop('title')\n",
    "  xlabel = kwargs.pop('xlabel')\n",
    "  ylabel = kwargs.pop('ylabel')\n",
    "  plt.title(title)\n",
    "  plt.xlabel(xlabel)\n",
    "  plt.ylabel(ylabel)\n",
    "  plt.legend()\n",
    "  plt.show()\n",
    "  \n",
    "plot_para = {'title': 'Training and Validation Loss', 'xlabel':'Epochs', 'ylabel': 'Loss', 'label1': 'Training Loss', 'label2': 'Validation Loss'}\n",
    "plot_results(loss_values,val_loss_values, epochs, **plot_para) "
   ]
  },
  {
   "cell_type": "code",
   "execution_count": 6,
   "metadata": {},
   "outputs": [
    {
     "data": {
      "image/png": "[encoded data removed]",
      "text/plain": [
       "<Figure size 432x288 with 1 Axes>"
      ]
     },
     "metadata": {
      "needs_background": "light"
     },
     "output_type": "display_data"
    }
   ],
   "source": [
    "plot_para = {'title': 'Training and Validation Accuracy', 'xlabel':'Epochs', 'ylabel': 'acc', 'label1': 'Training acc', 'label2': 'Validation acc'}\n",
    "plot_results(acc_values,val_acc_values, epochs, **plot_para) "
   ]
  },
  {
   "cell_type": "code",
   "execution_count": 7,
   "metadata": {},
   "outputs": [
    {
     "name": "stdout",
     "output_type": "stream",
     "text": [
      "17000/17000 [==============================] - 1s 35us/step\n",
      "[2.302636353661032, 0.10170588235294117]\n"
     ]
    }
   ],
   "source": [
    "results = model.evaluate(x_test, y_test)\n",
    "print (results)"
   ]
  },
  {
   "cell_type": "code",
   "execution_count": null,
   "metadata": {},
   "outputs": [],
   "source": []
  }
 ],
 "metadata": {
  "kernelspec": {
   "display_name": "Python 3",
   "language": "python",
   "name": "python3"
  },
  "language_info": {
   "codemirror_mode": {
    "name": "ipython",
    "version": 3
   },
   "file_extension": ".py",
   "mimetype": "text/x-python",
   "name": "python",
   "nbconvert_exporter": "python",
   "pygments_lexer": "ipython3",
   "version": "3.6.8"
  }
 },
 "nbformat": 4,
 "nbformat_minor": 2
}
