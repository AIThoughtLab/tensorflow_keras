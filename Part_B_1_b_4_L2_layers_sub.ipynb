{
 "cells": [
  {
   "cell_type": "code",
   "execution_count": null,
   "metadata": {},
   "outputs": [],
   "source": [
    "!pip3 install keras\n",
    "#!pip install --upgrade numpy"
   ]
  },
  {
   "cell_type": "code",
   "execution_count": null,
   "metadata": {},
   "outputs": [],
   "source": []
  },
  {
   "cell_type": "code",
   "execution_count": 5,
   "metadata": {},
   "outputs": [],
   "source": [
    "from keras import models\n",
    "from keras import layers\n",
    "from keras import optimizers\n",
    "from sklearn import preprocessing\n",
    "import matplotlib.pyplot as plt\n",
    "import pylab \n",
    "%matplotlib inline\n",
    "import time\n",
    "import tensorflow as tf\n",
    "tf.reset_default_graph()\n",
    "import h5py\n",
    "import numpy as np\n",
    "from keras import regularizers"
   ]
  },
  {
   "cell_type": "code",
   "execution_count": 6,
   "metadata": {},
   "outputs": [
    {
     "name": "stdout",
     "output_type": "stream",
     "text": [
      "List of arrays in this file: \n",
      " KeysView(<HDF5 file \"data.h5\" (mode r)>)\n",
      "Shape of the array dataset_1: \n",
      " (200000, 785)\n",
      "Shape of the array dataset_2: \n",
      " (17000, 785)\n"
     ]
    }
   ],
   "source": [
    "def loadData():\n",
    "    with h5py.File('data.h5','r') as hf:\n",
    "        print('List of arrays in this file: \\n', hf.keys())\n",
    "        allTrain = hf.get('trainData')\n",
    "        allTest = hf.get('testData')\n",
    "        npTrain = np.array(allTrain)\n",
    "        npTest = np.array(allTest)\n",
    "        print('Shape of the array dataset_1: \\n', npTrain.shape)\n",
    "        print('Shape of the array dataset_2: \\n', npTest.shape)\n",
    "    return npTrain[:,:-1], npTrain[:, -1], npTest[:,:-1], npTest[:, -1]\n",
    "\n",
    "x_train, y_train, x_test, y_test = loadData()"
   ]
  },
  {
   "cell_type": "code",
   "execution_count": 7,
   "metadata": {},
   "outputs": [
    {
     "name": "stdout",
     "output_type": "stream",
     "text": [
      "x_train (200000, 784) y_train (200000,) x_test (17000, 784) y_test (17000,)\n"
     ]
    }
   ],
   "source": [
    "# Normalize the x_train and x_test dataset\n",
    "x_train, x_test = x_train / 255.0, x_test / 255.0\n",
    "print(\"x_train\", x_train.shape, \"y_train\", y_train.shape, \"x_test\", x_test.shape, \"y_test\", y_test.shape)"
   ]
  },
  {
   "cell_type": "code",
   "execution_count": 10,
   "metadata": {},
   "outputs": [
    {
     "name": "stdout",
     "output_type": "stream",
     "text": [
      "Train on 180000 samples, validate on 20000 samples\n",
      "Epoch 1/20\n",
      "180000/180000 [==============================] - 13s 70us/step - loss: 1.6214 - acc: 0.5705 - val_loss: 1.2494 - val_acc: 0.7433\n",
      "Epoch 2/20\n",
      "180000/180000 [==============================] - 11s 63us/step - loss: 1.1499 - acc: 0.7729 - val_loss: 1.0885 - val_acc: 0.7846\n",
      "Epoch 3/20\n",
      "180000/180000 [==============================] - 11s 63us/step - loss: 1.0390 - acc: 0.7980 - val_loss: 1.0061 - val_acc: 0.8016\n",
      "Epoch 4/20\n",
      "180000/180000 [==============================] - 11s 63us/step - loss: 0.9833 - acc: 0.8076 - val_loss: 0.9648 - val_acc: 0.8061\n",
      "Epoch 5/20\n",
      "180000/180000 [==============================] - 11s 64us/step - loss: 0.9482 - acc: 0.8122 - val_loss: 0.9398 - val_acc: 0.8074\n",
      "Epoch 6/20\n",
      "180000/180000 [==============================] - 11s 63us/step - loss: 0.9195 - acc: 0.8153 - val_loss: 0.9106 - val_acc: 0.8126\n",
      "Epoch 7/20\n",
      "180000/180000 [==============================] - 11s 64us/step - loss: 0.8984 - acc: 0.8178 - val_loss: 0.8846 - val_acc: 0.8162\n",
      "Epoch 8/20\n",
      "180000/180000 [==============================] - 11s 64us/step - loss: 0.8795 - acc: 0.8202 - val_loss: 0.8718 - val_acc: 0.8174\n",
      "Epoch 9/20\n",
      "180000/180000 [==============================] - 12s 64us/step - loss: 0.8634 - acc: 0.8228 - val_loss: 0.8575 - val_acc: 0.8207\n",
      "Epoch 10/20\n",
      "180000/180000 [==============================] - 12s 64us/step - loss: 0.8475 - acc: 0.8253 - val_loss: 0.8609 - val_acc: 0.8162\n",
      "Epoch 11/20\n",
      "180000/180000 [==============================] - 12s 64us/step - loss: 0.8358 - acc: 0.8271 - val_loss: 0.8295 - val_acc: 0.8281\n",
      "Epoch 12/20\n",
      "180000/180000 [==============================] - 12s 65us/step - loss: 0.8247 - acc: 0.8290 - val_loss: 0.8337 - val_acc: 0.8234\n",
      "Epoch 13/20\n",
      "180000/180000 [==============================] - 12s 65us/step - loss: 0.8111 - acc: 0.8319 - val_loss: 0.8126 - val_acc: 0.8295\n",
      "Epoch 14/20\n",
      "180000/180000 [==============================] - 12s 65us/step - loss: 0.8030 - acc: 0.8336 - val_loss: 0.8056 - val_acc: 0.8307\n",
      "Epoch 15/20\n",
      "180000/180000 [==============================] - 12s 65us/step - loss: 0.7912 - acc: 0.8361 - val_loss: 0.7991 - val_acc: 0.8306\n",
      "Epoch 16/20\n",
      "180000/180000 [==============================] - 12s 65us/step - loss: 0.7822 - acc: 0.8367 - val_loss: 0.7820 - val_acc: 0.8352\n",
      "Epoch 17/20\n",
      "180000/180000 [==============================] - 12s 65us/step - loss: 0.7740 - acc: 0.8387 - val_loss: 0.7893 - val_acc: 0.8322\n",
      "Epoch 18/20\n",
      "180000/180000 [==============================] - 13s 70us/step - loss: 0.7671 - acc: 0.8397 - val_loss: 0.7807 - val_acc: 0.8313\n",
      "Epoch 19/20\n",
      "180000/180000 [==============================] - 13s 71us/step - loss: 0.7597 - acc: 0.8408 - val_loss: 0.7659 - val_acc: 0.8350\n",
      "Epoch 20/20\n",
      "180000/180000 [==============================] - 13s 71us/step - loss: 0.7534 - acc: 0.8422 - val_loss: 0.7577 - val_acc: 0.8390\n",
      "Total time is:  236.31 seconds\n"
     ]
    }
   ],
   "source": [
    "model = models.Sequential()\n",
    "model.add(layers.Dense(600, activation='relu', input_shape=(784,), kernel_regularizer=regularizers.l2(0.001)))\n",
    "model.add(layers.Dense(400, activation='relu', kernel_regularizer=regularizers.l2(0.001)))\n",
    "model.add(layers.Dense(200, activation='relu', kernel_regularizer=regularizers.l2(0.001)))\n",
    "model.add(layers.Dense(10, activation='softmax'))\n",
    "# sgd = optimizers.SGD(lr=0.001, decay=1e-6, momentum=0.9, nesterov=True)         \n",
    "model.compile(optimizer='adam', loss='sparse_categorical_crossentropy', metrics=['accuracy'])\n",
    "#model.compile(loss='mean_squared_error', optimizer=sgd)\n",
    "start_time = time.time()\n",
    "history = model.fit(x_train, y_train, epochs=20, batch_size = 256, validation_split=0.1)\n",
    "duration = time.time() - start_time\n",
    "print(\"Total time is: \", round(duration, 2), \"seconds\")"
   ]
  },
  {
   "cell_type": "code",
   "execution_count": 11,
   "metadata": {},
   "outputs": [
    {
     "name": "stdout",
     "output_type": "stream",
     "text": [
      "Keys:  dict_keys(['val_loss', 'val_acc', 'loss', 'acc'])\n"
     ]
    },
    {
     "data": {
      "image/png": "[encoded data removed]",
      "text/plain": [
       "<Figure size 432x288 with 1 Axes>"
      ]
     },
     "metadata": {
      "needs_background": "light"
     },
     "output_type": "display_data"
    }
   ],
   "source": [
    "history_dict = history.history\n",
    "print(\"Keys: \", history_dict.keys())\n",
    "loss_values = history_dict['loss']\n",
    "val_loss_values = history_dict['val_loss']\n",
    "acc_values = history_dict['acc']\n",
    "val_acc_values = history_dict['val_acc']\n",
    "\n",
    "epochs = range(1, len(history_dict['acc'])+1)\n",
    "\n",
    "def plot_results(loss_values,val_loss_values, epochs, **kwargs):\n",
    "  label1 = kwargs.pop('label1')\n",
    "  plt.plot(epochs, loss_values, 'bo',label = label1)\n",
    "  label2 = kwargs.pop('label2')\n",
    "  plt.plot(epochs, val_loss_values, 'r',label = label2)\n",
    "  title  = kwargs.pop('title')\n",
    "  xlabel = kwargs.pop('xlabel')\n",
    "  ylabel = kwargs.pop('ylabel')\n",
    "  plt.title(title)\n",
    "  plt.xlabel(xlabel)\n",
    "  plt.ylabel(ylabel)\n",
    "  plt.legend()\n",
    "  plt.show()\n",
    "  \n",
    "plot_para = {'title': 'Training and Validation Loss', 'xlabel':'Epochs', 'ylabel': 'Loss', 'label1': 'Training Loss', 'label2': 'Validation Loss'}\n",
    "plot_results(loss_values,val_loss_values, epochs, **plot_para) "
   ]
  },
  {
   "cell_type": "code",
   "execution_count": 12,
   "metadata": {},
   "outputs": [
    {
     "data": {
      "image/png": "[encoded data removed]",
      "text/plain": [
       "<Figure size 432x288 with 1 Axes>"
      ]
     },
     "metadata": {
      "needs_background": "light"
     },
     "output_type": "display_data"
    }
   ],
   "source": [
    "plot_para = {'title': 'Training and Validation Accuracy', 'xlabel':'Epochs', 'ylabel': 'acc', 'label1': 'Training acc', 'label2': 'Validation acc'}\n",
    "plot_results(acc_values,val_acc_values, epochs, **plot_para) "
   ]
  },
  {
   "cell_type": "code",
   "execution_count": 13,
   "metadata": {},
   "outputs": [
    {
     "name": "stdout",
     "output_type": "stream",
     "text": [
      "17000/17000 [==============================] - 1s 62us/step\n",
      "[0.6778607321907493, 0.8627058823529412]\n"
     ]
    }
   ],
   "source": [
    "results = model.evaluate(x_test, y_test)\n",
    "print (results)"
   ]
  },
  {
   "cell_type": "code",
   "execution_count": null,
   "metadata": {},
   "outputs": [],
   "source": []
  }
 ],
 "metadata": {
  "kernelspec": {
   "display_name": "Python 3",
   "language": "python",
   "name": "python3"
  },
  "language_info": {
   "codemirror_mode": {
    "name": "ipython",
    "version": 3
   },
   "file_extension": ".py",
   "mimetype": "text/x-python",
   "name": "python",
   "nbconvert_exporter": "python",
   "pygments_lexer": "ipython3",
   "version": "3.6.8"
  }
 },
 "nbformat": 4,
 "nbformat_minor": 2
}
