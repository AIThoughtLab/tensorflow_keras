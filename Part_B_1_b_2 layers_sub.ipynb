{
 "cells": [
  {
   "cell_type": "code",
   "execution_count": 28,
   "metadata": {},
   "outputs": [
    {
     "name": "stdout",
     "output_type": "stream",
     "text": [
      "Requirement already satisfied: keras in /usr/local/envs/py3env/lib/python3.5/site-packages (2.2.4)\n",
      "Requirement already satisfied: six>=1.9.0 in /usr/local/envs/py3env/lib/python3.5/site-packages (from keras) (1.10.0)\n",
      "Requirement already satisfied: keras-preprocessing>=1.0.5 in /usr/local/envs/py3env/lib/python3.5/site-packages (from keras) (1.0.9)\n",
      "Requirement already satisfied: scipy>=0.14 in /usr/local/envs/py3env/lib/python3.5/site-packages (from keras) (1.0.0)\n",
      "Requirement already satisfied: h5py in /usr/local/envs/py3env/lib/python3.5/site-packages (from keras) (2.9.0)\n",
      "Requirement already satisfied: pyyaml in /usr/local/envs/py3env/lib/python3.5/site-packages (from keras) (3.13)\n",
      "Requirement already satisfied: keras-applications>=1.0.6 in /usr/local/envs/py3env/lib/python3.5/site-packages (from keras) (1.0.7)\n",
      "Requirement already satisfied: numpy>=1.9.1 in /usr/local/envs/py3env/lib/python3.5/site-packages (from keras) (1.14.0)\n"
     ]
    }
   ],
   "source": [
    "!pip install keras"
   ]
  },
  {
   "cell_type": "code",
   "execution_count": 1,
   "metadata": {},
   "outputs": [
    {
     "name": "stderr",
     "output_type": "stream",
     "text": [
      "Using TensorFlow backend.\n"
     ]
    }
   ],
   "source": [
    "from keras import models\n",
    "from keras import layers\n",
    "from keras import optimizers\n",
    "from sklearn import preprocessing\n",
    "import matplotlib.pyplot as plt\n",
    "import pylab \n",
    "%matplotlib inline\n",
    "import time\n",
    "import tensorflow as tf\n",
    "tf.reset_default_graph()\n",
    "import h5py\n",
    "import numpy as np"
   ]
  },
  {
   "cell_type": "code",
   "execution_count": 2,
   "metadata": {},
   "outputs": [
    {
     "name": "stdout",
     "output_type": "stream",
     "text": [
      "('List of arrays in this file: \\n', [u'testData', u'trainData'])\n",
      "('Shape of the array dataset_1: \\n', (200000, 785))\n",
      "('Shape of the array dataset_2: \\n', (17000, 785))\n"
     ]
    }
   ],
   "source": [
    "def loadData():\n",
    "    with h5py.File('data.h5','r') as hf:\n",
    "        print('List of arrays in this file: \\n', hf.keys())\n",
    "        allTrain = hf.get('trainData')\n",
    "        allTest = hf.get('testData')\n",
    "        npTrain = np.array(allTrain)\n",
    "        npTest = np.array(allTest)\n",
    "        print('Shape of the array dataset_1: \\n', npTrain.shape)\n",
    "        print('Shape of the array dataset_2: \\n', npTest.shape)\n",
    "    return npTrain[:,:-1], npTrain[:, -1], npTest[:,:-1], npTest[:, -1]\n",
    "\n",
    "x_train, y_train, x_test, y_test = loadData()"
   ]
  },
  {
   "cell_type": "code",
   "execution_count": 3,
   "metadata": {},
   "outputs": [
    {
     "name": "stdout",
     "output_type": "stream",
     "text": [
      "('x_train', (200000, 784), 'y_train', (200000,), 'x_test', (17000, 784), 'y_test', (17000,))\n"
     ]
    }
   ],
   "source": [
    "# Normalize the x_train and x_test dataset\n",
    "x_train, x_test = x_train / 255.0, x_test / 255.0\n",
    "print(\"x_train\", x_train.shape, \"y_train\", y_train.shape, \"x_test\", x_test.shape, \"y_test\", y_test.shape)"
   ]
  },
  {
   "cell_type": "code",
   "execution_count": 6,
   "metadata": {},
   "outputs": [
    {
     "name": "stdout",
     "output_type": "stream",
     "text": [
      "Train on 180000 samples, validate on 20000 samples\n",
      "Epoch 1/30\n",
      "180000/180000 [==============================] - 3s 17us/step - loss: 1.1529 - acc: 0.7449 - val_loss: 0.7386 - val_acc: 0.8091\n",
      "Epoch 2/30\n",
      "180000/180000 [==============================] - 3s 15us/step - loss: 0.6929 - acc: 0.8177 - val_loss: 0.6569 - val_acc: 0.8226\n",
      "Epoch 3/30\n",
      "180000/180000 [==============================] - 3s 16us/step - loss: 0.6384 - acc: 0.8274 - val_loss: 0.6177 - val_acc: 0.8297\n",
      "Epoch 4/30\n",
      "180000/180000 [==============================] - 3s 16us/step - loss: 0.6034 - acc: 0.8340 - val_loss: 0.5885 - val_acc: 0.8370\n",
      "Epoch 5/30\n",
      "180000/180000 [==============================] - 3s 15us/step - loss: 0.5763 - acc: 0.8387 - val_loss: 0.5667 - val_acc: 0.8400\n",
      "Epoch 6/30\n",
      "180000/180000 [==============================] - 3s 16us/step - loss: 0.5545 - acc: 0.8431 - val_loss: 0.5464 - val_acc: 0.8455\n",
      "Epoch 7/30\n",
      "180000/180000 [==============================] - 3s 16us/step - loss: 0.5366 - acc: 0.8473 - val_loss: 0.5312 - val_acc: 0.8476\n",
      "Epoch 8/30\n",
      "180000/180000 [==============================] - 3s 16us/step - loss: 0.5216 - acc: 0.8505 - val_loss: 0.5179 - val_acc: 0.8498\n",
      "Epoch 9/30\n",
      "180000/180000 [==============================] - 3s 16us/step - loss: 0.5088 - acc: 0.8538 - val_loss: 0.5073 - val_acc: 0.8534\n",
      "Epoch 10/30\n",
      "180000/180000 [==============================] - 3s 17us/step - loss: 0.4974 - acc: 0.8567 - val_loss: 0.4978 - val_acc: 0.8569\n",
      "Epoch 11/30\n",
      "180000/180000 [==============================] - 3s 17us/step - loss: 0.4870 - acc: 0.8596 - val_loss: 0.4903 - val_acc: 0.8585\n",
      "Epoch 12/30\n",
      "180000/180000 [==============================] - 3s 17us/step - loss: 0.4774 - acc: 0.8618 - val_loss: 0.4814 - val_acc: 0.8611\n",
      "Epoch 13/30\n",
      "180000/180000 [==============================] - 3s 18us/step - loss: 0.4687 - acc: 0.8640 - val_loss: 0.4749 - val_acc: 0.8626\n",
      "Epoch 14/30\n",
      "180000/180000 [==============================] - 3s 17us/step - loss: 0.4606 - acc: 0.8661 - val_loss: 0.4671 - val_acc: 0.8654\n",
      "Epoch 15/30\n",
      "180000/180000 [==============================] - 3s 15us/step - loss: 0.4527 - acc: 0.8685 - val_loss: 0.4613 - val_acc: 0.8672\n",
      "Epoch 16/30\n",
      "180000/180000 [==============================] - 3s 15us/step - loss: 0.4455 - acc: 0.8705 - val_loss: 0.4560 - val_acc: 0.8676\n",
      "Epoch 17/30\n",
      "180000/180000 [==============================] - 3s 16us/step - loss: 0.4387 - acc: 0.8722 - val_loss: 0.4503 - val_acc: 0.8697\n",
      "Epoch 18/30\n",
      "180000/180000 [==============================] - 3s 16us/step - loss: 0.4321 - acc: 0.8742 - val_loss: 0.4468 - val_acc: 0.8700\n",
      "Epoch 19/30\n",
      "180000/180000 [==============================] - 3s 15us/step - loss: 0.4260 - acc: 0.8761 - val_loss: 0.4400 - val_acc: 0.8727\n",
      "Epoch 20/30\n",
      "180000/180000 [==============================] - 3s 16us/step - loss: 0.4201 - acc: 0.8776 - val_loss: 0.4364 - val_acc: 0.8732\n",
      "Epoch 21/30\n",
      "180000/180000 [==============================] - 3s 16us/step - loss: 0.4147 - acc: 0.8793 - val_loss: 0.4316 - val_acc: 0.8739\n",
      "Epoch 22/30\n",
      "180000/180000 [==============================] - 3s 16us/step - loss: 0.4093 - acc: 0.8809 - val_loss: 0.4273 - val_acc: 0.8756\n",
      "Epoch 23/30\n",
      "180000/180000 [==============================] - 3s 16us/step - loss: 0.4043 - acc: 0.8820 - val_loss: 0.4236 - val_acc: 0.8763\n",
      "Epoch 24/30\n",
      "180000/180000 [==============================] - 3s 15us/step - loss: 0.3995 - acc: 0.8837 - val_loss: 0.4201 - val_acc: 0.8783\n",
      "Epoch 25/30\n",
      "180000/180000 [==============================] - 3s 16us/step - loss: 0.3949 - acc: 0.8849 - val_loss: 0.4176 - val_acc: 0.8780\n",
      "Epoch 26/30\n",
      "180000/180000 [==============================] - 3s 15us/step - loss: 0.3906 - acc: 0.8861 - val_loss: 0.4141 - val_acc: 0.8798\n",
      "Epoch 27/30\n",
      "180000/180000 [==============================] - 3s 15us/step - loss: 0.3864 - acc: 0.8872 - val_loss: 0.4106 - val_acc: 0.8810\n",
      "Epoch 28/30\n",
      "180000/180000 [==============================] - 3s 16us/step - loss: 0.3823 - acc: 0.8885 - val_loss: 0.4085 - val_acc: 0.8817\n",
      "Epoch 29/30\n",
      "180000/180000 [==============================] - 3s 15us/step - loss: 0.3785 - acc: 0.8895 - val_loss: 0.4047 - val_acc: 0.8822\n",
      "Epoch 30/30\n",
      "180000/180000 [==============================] - 3s 16us/step - loss: 0.3748 - acc: 0.8905 - val_loss: 0.4030 - val_acc: 0.8827\n",
      "('Total time is: ', 86.6, 'seconds')\n"
     ]
    }
   ],
   "source": [
    "model = models.Sequential()\n",
    "model.add(layers.Dense(200, activation='relu', input_shape=(784,)))\n",
    "model.add(layers.Dense(10, activation='softmax'))\n",
    "# sgd = optimizers.SGD(lr=0.001, decay=1e-6, momentum=0.9, nesterov=True)         \n",
    "model.compile(optimizer='adam', loss='sparse_categorical_crossentropy', metrics=['accuracy'])\n",
    "#model.compile(loss='mean_squared_error', optimizer=sgd)\n",
    "start_time = time.time()\n",
    "history = model.fit(x_train, y_train, epochs=30, batch_size = 256, validation_split=0.1)\n",
    "duration = time.time() - start_time\n",
    "print(\"Total time is: \", round(duration, 2), \"seconds\")"
   ]
  },
  {
   "cell_type": "code",
   "execution_count": 7,
   "metadata": {},
   "outputs": [
    {
     "name": "stdout",
     "output_type": "stream",
     "text": [
      "('Keys: ', ['acc', 'loss', 'val_acc', 'val_loss'])\n"
     ]
    },
    {
     "name": "stderr",
     "output_type": "stream",
     "text": [
      "/usr/local/envs/py2env/lib/python2.7/site-packages/matplotlib/font_manager.py:1320: UserWarning: findfont: Font family [u'sans-serif'] not found. Falling back to DejaVu Sans\n",
      "  (prop.get_family(), self.defaultFamily[fontext]))\n"
     ]
    },
    {
     "data": {
      "image/png": "[encoded data removed]",
      "text/plain": [
       "<matplotlib.figure.Figure at 0x7f5324120f50>"
      ]
     },
     "metadata": {},
     "output_type": "display_data"
    }
   ],
   "source": [
    "history_dict = history.history\n",
    "print(\"Keys: \", history_dict.keys())\n",
    "loss_values = history_dict['loss']\n",
    "val_loss_values = history_dict['val_loss']\n",
    "acc_values = history_dict['acc']\n",
    "val_acc_values = history_dict['val_acc']\n",
    "\n",
    "epochs = range(1, len(history_dict['acc'])+1)\n",
    "\n",
    "def plot_results(loss_values,val_loss_values, epochs, **kwargs):\n",
    "  label1 = kwargs.pop('label1')\n",
    "  plt.plot(epochs, loss_values, 'bo',label = label1)\n",
    "  label2 = kwargs.pop('label2')\n",
    "  plt.plot(epochs, val_loss_values, 'r',label = label2)\n",
    "  title  = kwargs.pop('title')\n",
    "  xlabel = kwargs.pop('xlabel')\n",
    "  ylabel = kwargs.pop('ylabel')\n",
    "  plt.title(title)\n",
    "  plt.xlabel(xlabel)\n",
    "  plt.ylabel(ylabel)\n",
    "  plt.legend()\n",
    "  plt.show()\n",
    "  \n",
    "plot_para = {'title': 'Training and Validation Loss', 'xlabel':'Epochs', 'ylabel': 'Loss', 'label1': 'Training Loss', 'label2': 'Validation Loss'}\n",
    "plot_results(loss_values,val_loss_values, epochs, **plot_para) "
   ]
  },
  {
   "cell_type": "code",
   "execution_count": 8,
   "metadata": {},
   "outputs": [
    {
     "data": {
      "image/png": "[encoded data removed]",
      "text/plain": [
       "<matplotlib.figure.Figure at 0x7f533973d8d0>"
      ]
     },
     "metadata": {},
     "output_type": "display_data"
    }
   ],
   "source": [
    "plot_para = {'title': 'Training and Validation Accuracy', 'xlabel':'Epochs', 'ylabel': 'acc', 'label1': 'Training acc', 'label2': 'Validation acc'}\n",
    "plot_results(acc_values,val_acc_values, epochs, **plot_para) "
   ]
  },
  {
   "cell_type": "code",
   "execution_count": 9,
   "metadata": {},
   "outputs": [
    {
     "name": "stdout",
     "output_type": "stream",
     "text": [
      "17000/17000 [==============================] - 1s 39us/step\n",
      "[0.33238158836084253, 0.9049411764705882]\n"
     ]
    }
   ],
   "source": [
    "results = model.evaluate(x_test, y_test)\n",
    "print (results)"
   ]
  },
  {
   "cell_type": "code",
   "execution_count": null,
   "metadata": {},
   "outputs": [],
   "source": []
  }
 ],
 "metadata": {
  "kernelspec": {
   "display_name": "Python 3",
   "language": "python",
   "name": "python3"
  },
  "language_info": {
   "codemirror_mode": {
    "name": "ipython",
    "version": 3
   },
   "file_extension": ".py",
   "mimetype": "text/x-python",
   "name": "python",
   "nbconvert_exporter": "python",
   "pygments_lexer": "ipython3",
   "version": "3.7.3"
  }
 },
 "nbformat": 4,
 "nbformat_minor": 2
}
