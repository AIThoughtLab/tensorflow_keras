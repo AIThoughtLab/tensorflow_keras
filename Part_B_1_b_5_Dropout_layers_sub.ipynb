{
 "cells": [
  {
   "cell_type": "code",
   "execution_count": null,
   "metadata": {},
   "outputs": [],
   "source": [
    "!pip3 install keras\n",
    "#!pip install --upgrade numpy"
   ]
  },
  {
   "cell_type": "code",
   "execution_count": null,
   "metadata": {},
   "outputs": [],
   "source": []
  },
  {
   "cell_type": "code",
   "execution_count": 1,
   "metadata": {},
   "outputs": [
    {
     "name": "stderr",
     "output_type": "stream",
     "text": [
      "Using TensorFlow backend.\n"
     ]
    }
   ],
   "source": [
    "from keras import models\n",
    "from keras import layers\n",
    "from keras import optimizers\n",
    "from sklearn import preprocessing\n",
    "import matplotlib.pyplot as plt\n",
    "import pylab \n",
    "%matplotlib inline\n",
    "import time\n",
    "import tensorflow as tf\n",
    "tf.reset_default_graph()\n",
    "import h5py\n",
    "import numpy as np\n",
    "from keras import regularizers"
   ]
  },
  {
   "cell_type": "code",
   "execution_count": 2,
   "metadata": {},
   "outputs": [
    {
     "name": "stdout",
     "output_type": "stream",
     "text": [
      "List of arrays in this file: \n",
      " KeysView(<HDF5 file \"data.h5\" (mode r)>)\n",
      "Shape of the array dataset_1: \n",
      " (200000, 785)\n",
      "Shape of the array dataset_2: \n",
      " (17000, 785)\n"
     ]
    }
   ],
   "source": [
    "def loadData():\n",
    "    with h5py.File('data.h5','r') as hf:\n",
    "        print('List of arrays in this file: \\n', hf.keys())\n",
    "        allTrain = hf.get('trainData')\n",
    "        allTest = hf.get('testData')\n",
    "        npTrain = np.array(allTrain)\n",
    "        npTest = np.array(allTest)\n",
    "        print('Shape of the array dataset_1: \\n', npTrain.shape)\n",
    "        print('Shape of the array dataset_2: \\n', npTest.shape)\n",
    "    return npTrain[:,:-1], npTrain[:, -1], npTest[:,:-1], npTest[:, -1]\n",
    "\n",
    "x_train, y_train, x_test, y_test = loadData()"
   ]
  },
  {
   "cell_type": "code",
   "execution_count": 3,
   "metadata": {},
   "outputs": [
    {
     "name": "stdout",
     "output_type": "stream",
     "text": [
      "x_train (200000, 784) y_train (200000,) x_test (17000, 784) y_test (17000,)\n"
     ]
    }
   ],
   "source": [
    "# Normalize the x_train and x_test dataset\n",
    "x_train, x_test = x_train / 255.0, x_test / 255.0\n",
    "print(\"x_train\", x_train.shape, \"y_train\", y_train.shape, \"x_test\", x_test.shape, \"y_test\", y_test.shape)"
   ]
  },
  {
   "cell_type": "code",
   "execution_count": 11,
   "metadata": {},
   "outputs": [
    {
     "name": "stdout",
     "output_type": "stream",
     "text": [
      "Train on 180000 samples, validate on 20000 samples\n",
      "Epoch 1/20\n",
      "180000/180000 [==============================] - 21s 116us/step - loss: 0.5179 - acc: 0.8428 - val_loss: 0.4065 - val_acc: 0.8761\n",
      "Epoch 2/20\n",
      "180000/180000 [==============================] - 21s 114us/step - loss: 0.4029 - acc: 0.8766 - val_loss: 0.3711 - val_acc: 0.8861\n",
      "Epoch 3/20\n",
      "180000/180000 [==============================] - 21s 116us/step - loss: 0.3611 - acc: 0.8883 - val_loss: 0.3583 - val_acc: 0.8905\n",
      "Epoch 4/20\n",
      "180000/180000 [==============================] - 21s 116us/step - loss: 0.3357 - acc: 0.8956 - val_loss: 0.3404 - val_acc: 0.8977\n",
      "Epoch 5/20\n",
      "180000/180000 [==============================] - 21s 118us/step - loss: 0.3166 - acc: 0.9013 - val_loss: 0.3373 - val_acc: 0.8978\n",
      "Epoch 6/20\n",
      "180000/180000 [==============================] - 21s 118us/step - loss: 0.3007 - acc: 0.9060 - val_loss: 0.3225 - val_acc: 0.9005\n",
      "Epoch 7/20\n",
      "180000/180000 [==============================] - 21s 118us/step - loss: 0.2849 - acc: 0.9105 - val_loss: 0.3180 - val_acc: 0.9036\n",
      "Epoch 8/20\n",
      "180000/180000 [==============================] - 21s 118us/step - loss: 0.2755 - acc: 0.9129 - val_loss: 0.3180 - val_acc: 0.9041\n",
      "Epoch 9/20\n",
      "180000/180000 [==============================] - 22s 124us/step - loss: 0.2663 - acc: 0.9157 - val_loss: 0.3154 - val_acc: 0.9071\n",
      "Epoch 10/20\n",
      "180000/180000 [==============================] - 23s 128us/step - loss: 0.2576 - acc: 0.9182 - val_loss: 0.3085 - val_acc: 0.9083\n",
      "Epoch 11/20\n",
      "180000/180000 [==============================] - 23s 128us/step - loss: 0.2488 - acc: 0.9206 - val_loss: 0.3123 - val_acc: 0.9086\n",
      "Epoch 12/20\n",
      "180000/180000 [==============================] - 23s 128us/step - loss: 0.2408 - acc: 0.9232 - val_loss: 0.3123 - val_acc: 0.9086\n",
      "Epoch 13/20\n",
      "180000/180000 [==============================] - 23s 129us/step - loss: 0.2335 - acc: 0.9260 - val_loss: 0.3147 - val_acc: 0.9100\n",
      "Epoch 14/20\n",
      "180000/180000 [==============================] - 23s 129us/step - loss: 0.2269 - acc: 0.9278 - val_loss: 0.3254 - val_acc: 0.9082\n",
      "Epoch 15/20\n",
      "180000/180000 [==============================] - 24s 132us/step - loss: 0.2217 - acc: 0.9290 - val_loss: 0.3169 - val_acc: 0.9086\n",
      "Epoch 16/20\n",
      "180000/180000 [==============================] - 23s 130us/step - loss: 0.2160 - acc: 0.9312 - val_loss: 0.3213 - val_acc: 0.9083\n",
      "Epoch 17/20\n",
      "180000/180000 [==============================] - 23s 130us/step - loss: 0.2113 - acc: 0.9328 - val_loss: 0.3204 - val_acc: 0.9100\n",
      "Epoch 18/20\n",
      "180000/180000 [==============================] - 23s 130us/step - loss: 0.2051 - acc: 0.9344 - val_loss: 0.3195 - val_acc: 0.9109\n",
      "Epoch 19/20\n",
      "180000/180000 [==============================] - 24s 131us/step - loss: 0.2033 - acc: 0.9352 - val_loss: 0.3106 - val_acc: 0.9127\n",
      "Epoch 20/20\n",
      "180000/180000 [==============================] - 24s 131us/step - loss: 0.1975 - acc: 0.9376 - val_loss: 0.3093 - val_acc: 0.9131\n",
      "Total time is:  447.37 seconds\n"
     ]
    }
   ],
   "source": [
    "model = models.Sequential()\n",
    "model.add(layers.Dense(800, activation='relu', input_shape=(784,)))\n",
    "model.add(layers.Dropout(0.2))\n",
    "model.add(layers.Dense(600, activation='relu'))\n",
    "model.add(layers.Dropout(0.2))\n",
    "model.add(layers.Dense(400, activation='relu'))\n",
    "model.add(layers.Dropout(0.2))\n",
    "model.add(layers.Dense(200, activation='relu'))\n",
    "model.add(layers.Dropout(0.2))\n",
    "model.add(layers.Dense(10, activation='softmax'))\n",
    "\n",
    "\n",
    "# sgd = optimizers.SGD(lr=0.001, decay=1e-6, momentum=0.9, nesterov=True)         \n",
    "model.compile(optimizer='adam', loss='sparse_categorical_crossentropy', metrics=['accuracy'])\n",
    "#model.compile(loss='mean_squared_error', optimizer=sgd)\n",
    "start_time = time.time()\n",
    "history = model.fit(x_train, y_train, epochs=20, batch_size = 256, validation_split=0.1)\n",
    "duration = time.time() - start_time\n",
    "print(\"Total time is: \", round(duration, 2), \"seconds\")"
   ]
  },
  {
   "cell_type": "code",
   "execution_count": 12,
   "metadata": {},
   "outputs": [
    {
     "name": "stdout",
     "output_type": "stream",
     "text": [
      "Keys:  dict_keys(['val_loss', 'val_acc', 'loss', 'acc'])\n"
     ]
    },
    {
     "data": {
      "image/png": "[encoded data removed]",
      "text/plain": [
       "<Figure size 432x288 with 1 Axes>"
      ]
     },
     "metadata": {
      "needs_background": "light"
     },
     "output_type": "display_data"
    }
   ],
   "source": [
    "history_dict = history.history\n",
    "print(\"Keys: \", history_dict.keys())\n",
    "loss_values = history_dict['loss']\n",
    "val_loss_values = history_dict['val_loss']\n",
    "acc_values = history_dict['acc']\n",
    "val_acc_values = history_dict['val_acc']\n",
    "\n",
    "epochs = range(1, len(history_dict['acc'])+1)\n",
    "\n",
    "def plot_results(loss_values,val_loss_values, epochs, **kwargs):\n",
    "  label1 = kwargs.pop('label1')\n",
    "  plt.plot(epochs, loss_values, 'bo',label = label1)\n",
    "  label2 = kwargs.pop('label2')\n",
    "  plt.plot(epochs, val_loss_values, 'r',label = label2)\n",
    "  title  = kwargs.pop('title')\n",
    "  xlabel = kwargs.pop('xlabel')\n",
    "  ylabel = kwargs.pop('ylabel')\n",
    "  plt.title(title)\n",
    "  plt.xlabel(xlabel)\n",
    "  plt.ylabel(ylabel)\n",
    "  plt.legend()\n",
    "  plt.show()\n",
    "  \n",
    "plot_para = {'title': 'Training and Validation Loss', 'xlabel':'Epochs', 'ylabel': 'Loss', 'label1': 'Training Loss', 'label2': 'Validation Loss'}\n",
    "plot_results(loss_values,val_loss_values, epochs, **plot_para) "
   ]
  },
  {
   "cell_type": "code",
   "execution_count": 13,
   "metadata": {},
   "outputs": [
    {
     "data": {
      "image/png": "[encoded data removed]",
      "text/plain": [
       "<Figure size 432x288 with 1 Axes>"
      ]
     },
     "metadata": {
      "needs_background": "light"
     },
     "output_type": "display_data"
    }
   ],
   "source": [
    "plot_para = {'title': 'Training and Validation Accuracy', 'xlabel':'Epochs', 'ylabel': 'acc', 'label1': 'Training acc', 'label2': 'Validation acc'}\n",
    "plot_results(acc_values,val_acc_values, epochs, **plot_para) "
   ]
  },
  {
   "cell_type": "code",
   "execution_count": 14,
   "metadata": {},
   "outputs": [
    {
     "name": "stdout",
     "output_type": "stream",
     "text": [
      "17000/17000 [==============================] - 1s 56us/step\n",
      "[0.24979479469659546, 0.9323529411764706]\n"
     ]
    }
   ],
   "source": [
    "results = model.evaluate(x_test, y_test)\n",
    "print (results)"
   ]
  },
  {
   "cell_type": "code",
   "execution_count": null,
   "metadata": {},
   "outputs": [],
   "source": []
  }
 ],
 "metadata": {
  "kernelspec": {
   "display_name": "Python 3",
   "language": "python",
   "name": "python3"
  },
  "language_info": {
   "codemirror_mode": {
    "name": "ipython",
    "version": 3
   },
   "file_extension": ".py",
   "mimetype": "text/x-python",
   "name": "python",
   "nbconvert_exporter": "python",
   "pygments_lexer": "ipython3",
   "version": "3.7.3"
  }
 },
 "nbformat": 4,
 "nbformat_minor": 2
}
