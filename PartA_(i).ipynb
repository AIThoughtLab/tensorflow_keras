{
 "cells": [
  {
   "cell_type": "code",
   "execution_count": 1,
   "metadata": {},
   "outputs": [
    {
     "name": "stdout",
     "output_type": "stream",
     "text": [
      "train_images :  (60000, 28, 28)\n",
      "test_images :  (10000, 28, 28)\n",
      "train_labels:  (60000,)\n",
      "test_labels:  (10000,)\n"
     ]
    }
   ],
   "source": [
    "import tensorflow as tf\n",
    "import numpy as np\n",
    "import matplotlib.pyplot as plt\n",
    "%matplotlib inline\n",
    "import time\n",
    "tf.reset_default_graph()\n",
    "import pylab \n",
    "\n",
    "fashion_mnist = tf.keras.datasets.fashion_mnist\n",
    "(train_images, train_labels), (test_images, test_labels) = fashion_mnist.load_data()\n",
    "print(\"train_images : \", train_images.shape)\n",
    "print(\"test_images : \", test_images.shape)\n",
    "print(\"train_labels: \", train_labels.shape)\n",
    "print(\"test_labels: \", test_labels.shape)"
   ]
  },
  {
   "cell_type": "code",
   "execution_count": 2,
   "metadata": {},
   "outputs": [
    {
     "name": "stdout",
     "output_type": "stream",
     "text": [
      "New dimension after extracting...\n",
      "---------------------------------\n",
      "train_images_new (12000, 784)\n",
      "train_labels_new (12000,)\n",
      "test_images_new:  (2000, 784)\n",
      "test_labels_new:  (2000,)\n",
      "---------------------------------\n",
      "New dimension to feed into the network...\n",
      "---------------------------------\n",
      "train_images_transpose:  (784, 12000)\n",
      "test_images_transpose:  (784, 2000)\n",
      "train_labels_new (1, 12000)\n",
      "test_labels_new (1, 2000)\n"
     ]
    }
   ],
   "source": [
    "# Extract only 3 and 8 from train dataset\n",
    "train_labels_new = train_labels[(train_labels == 3) | (train_labels == 8)]\n",
    "train_images_new = train_images[(train_labels == 3) | (train_labels == 8)]\n",
    "\n",
    "# Extract only 3 and 8 from test dataset\n",
    "test_labels_new = test_labels[(test_labels == 3) | (test_labels == 8)]\n",
    "test_images_new = test_images[(test_labels == 3) | (test_labels == 8)]\n",
    "\n",
    "\n",
    "# Reshape training dataset so that the features are flattened\n",
    "train_images_new = train_images_new.reshape(train_images_new.shape[0], -1).astype('float32')\n",
    "test_images_new = test_images_new.reshape(test_images_new.shape[0], -1).astype('float32')\n",
    "\n",
    "#Normalized the data\n",
    "train_images_new = train_images_new / 255.0\n",
    "test_images_new = test_images_new / 255.0\n",
    "#np.savetxt(\"foo.csv\", train_labels_new, delimiter=\",\")\n",
    "print(\"New dimension after extracting...\")\n",
    "print(\"---------------------------------\")\n",
    "print('train_images_new', train_images_new.shape)\n",
    "print('train_labels_new', train_labels_new.shape)\n",
    "print('test_images_new: ', test_images_new.shape)\n",
    "print('test_labels_new: ', test_labels_new.shape)\n",
    "\n",
    "# encoding 3=0 and 8=1\n",
    "test_labels_new[test_labels_new == 3] = 0\n",
    "test_labels_new[test_labels_new == 8] = 1\n",
    "\n",
    "train_labels_new[train_labels_new == 3] = 0\n",
    "train_labels_new[train_labels_new == 8] = 1\n",
    "#print(train_labels_new)\n",
    "#print(test_labels_new)\n",
    "\n",
    "#Reshape the label dataset\n",
    "test_labels_new = test_labels_new.reshape(1,-1)\n",
    "train_labels_new = train_labels_new.reshape(1,-1)\n",
    "\n",
    "#Transpose the train and test data\n",
    "train_images_new = train_images_new.T\n",
    "test_images_new = test_images_new.T\n",
    "print(\"---------------------------------\")\n",
    "print(\"New dimension to feed into the network...\")\n",
    "print(\"---------------------------------\")\n",
    "print(\"train_images_transpose: \", train_images_new.shape)\n",
    "print(\"test_images_transpose: \", test_images_new.shape)\n",
    "print('train_labels_new', train_labels_new.shape)\n",
    "print('test_labels_new', test_labels_new.shape)"
   ]
  },
  {
   "cell_type": "code",
   "execution_count": 7,
   "metadata": {},
   "outputs": [
    {
     "data": {
      "text/plain": [
       "784"
      ]
     },
     "execution_count": 7,
     "metadata": {},
     "output_type": "execute_result"
    }
   ],
   "source": [
    "train_images_new.shape[0]"
   ]
  },
  {
   "cell_type": "code",
   "execution_count": 4,
   "metadata": {},
   "outputs": [],
   "source": [
    "#print(train_images_new.shape[0])\n",
    "learningRate = 0.01\n",
    "# Define the placeholders to load our training and target labels.\n",
    "x = tf.placeholder(tf.float32, [train_images_new.shape[0], None])\n",
    "y_ = tf.placeholder(tf.float32, [1, None])"
   ]
  },
  {
   "cell_type": "code",
   "execution_count": 26,
   "metadata": {},
   "outputs": [],
   "source": [
    "# define our weight and bias matrix\n",
    "w = tf.Variable(tf.random_normal([train_images_new.shape[0],100], mean=0.0, stddev=0.8))\n",
    "w_T = tf.transpose(w)\n",
    "b = tf.Variable([0.])\n",
    "\n",
    "#Multiply weight and bias matrix\n",
    "y_pred_1 = tf.matmul(w_T, x) + b\n",
    "#pipe it through relu activation function\n",
    "layer1 = tf.nn.relu(y_pred_1)\n",
    "\n",
    "# define our weight and bias matrix\n",
    "w1 = tf.Variable(tf.random_normal([100,1], mean=0.0, stddev=0.04))\n",
    "w1_T = tf.transpose(w1)\n",
    "b1 = tf.Variable([0.])\n",
    "#Multiply weight and bias matrix\n",
    "y_pred_2 = tf.matmul(w1_T, layer1) + b1\n",
    "#pipe it through sigmoid activation function\n",
    "y_pred_sigmoid = tf.sigmoid(y_pred_2)"
   ]
  },
  {
   "cell_type": "code",
   "execution_count": 27,
   "metadata": {},
   "outputs": [],
   "source": [
    "# Get cross entropy error for all our training dataset\n",
    "x_entropy = tf.nn.sigmoid_cross_entropy_with_logits(logits=y_pred_2, labels=y_)\n",
    "# Get the mean cross entropy error\n",
    "loss = tf.reduce_mean(x_entropy)\n",
    "# Apply Gradient Descent to minimize the error.\n",
    "optimizer = tf.train.GradientDescentOptimizer(learningRate).minimize(loss)\n",
    "# Round off the predictions (0 or 1)\n",
    "predictions = tf.round(y_pred_sigmoid)\n",
    "predictions_correct = tf.cast(tf.equal(predictions, y_), tf.float32)\n",
    "# Get the mean accuracy \n",
    "accuracy = tf.reduce_mean(predictions_correct)"
   ]
  },
  {
   "cell_type": "code",
   "execution_count": 28,
   "metadata": {},
   "outputs": [
    {
     "name": "stdout",
     "output_type": "stream",
     "text": [
      "Epoch  0  Train Loss:  2.5025325   Train Acc:  0.48775\n",
      "Epoch  1  Train Loss:  5.4029884   Train Acc:  0.5\n",
      "Epoch  2  Train Loss:  0.88996416   Train Acc:  0.56708336\n",
      "Epoch  3  Train Loss:  2.4023304   Train Acc:  0.5054167\n",
      "Epoch  4  Train Loss:  0.73112184   Train Acc:  0.68233335\n",
      "Epoch  5  Train Loss:  0.32374096   Train Acc:  0.9063333\n",
      "Epoch  6  Train Loss:  0.10383492   Train Acc:  0.9675\n",
      "Epoch  7  Train Loss:  0.08558708   Train Acc:  0.97391665\n",
      "Epoch  8  Train Loss:  0.08044445   Train Acc:  0.9740833\n",
      "Epoch  9  Train Loss:  0.07875932   Train Acc:  0.97466666\n",
      "Epoch  10  Train Loss:  0.07810574   Train Acc:  0.97508335\n",
      "Epoch  11  Train Loss:  0.07776249   Train Acc:  0.97533333\n",
      "Epoch  12  Train Loss:  0.07751292   Train Acc:  0.97541666\n",
      "Epoch  13  Train Loss:  0.07729311   Train Acc:  0.9755833\n",
      "Epoch  14  Train Loss:  0.07708451   Train Acc:  0.9755833\n",
      "Epoch  15  Train Loss:  0.07688166   Train Acc:  0.97566664\n",
      "Epoch  16  Train Loss:  0.07668293   Train Acc:  0.97575\n",
      "Epoch  17  Train Loss:  0.07648774   Train Acc:  0.9759167\n",
      "Epoch  18  Train Loss:  0.076295875   Train Acc:  0.9759167\n",
      "Epoch  19  Train Loss:  0.07610723   Train Acc:  0.97608334\n",
      "Epoch  20  Train Loss:  0.0759216   Train Acc:  0.97608334\n",
      "Epoch  21  Train Loss:  0.07573898   Train Acc:  0.97625\n",
      "Epoch  22  Train Loss:  0.07555923   Train Acc:  0.97641665\n",
      "Epoch  23  Train Loss:  0.07538231   Train Acc:  0.97641665\n",
      "Epoch  24  Train Loss:  0.07520805   Train Acc:  0.97658336\n",
      "Epoch  25  Train Loss:  0.07503649   Train Acc:  0.97658336\n",
      "Epoch  26  Train Loss:  0.074867465   Train Acc:  0.9766667\n",
      "Epoch  27  Train Loss:  0.07470093   Train Acc:  0.9766667\n",
      "Epoch  28  Train Loss:  0.074536815   Train Acc:  0.9766667\n",
      "Epoch  29  Train Loss:  0.07437505   Train Acc:  0.9769167\n",
      "Epoch  30  Train Loss:  0.0742156   Train Acc:  0.9770833\n",
      "Epoch  31  Train Loss:  0.07405836   Train Acc:  0.9770833\n",
      "Epoch  32  Train Loss:  0.07390329   Train Acc:  0.9770833\n",
      "Epoch  33  Train Loss:  0.07375033   Train Acc:  0.97716665\n",
      "Epoch  34  Train Loss:  0.07359948   Train Acc:  0.97716665\n",
      "Epoch  35  Train Loss:  0.07345063   Train Acc:  0.97716665\n",
      "Epoch  36  Train Loss:  0.0733037   Train Acc:  0.9770833\n",
      "Epoch  37  Train Loss:  0.07315872   Train Acc:  0.9770833\n",
      "Epoch  38  Train Loss:  0.07301559   Train Acc:  0.9770833\n",
      "Epoch  39  Train Loss:  0.07287429   Train Acc:  0.9770833\n",
      "Epoch  40  Train Loss:  0.072734766   Train Acc:  0.97716665\n",
      "Epoch  41  Train Loss:  0.07259698   Train Acc:  0.97725\n",
      "Epoch  42  Train Loss:  0.07246092   Train Acc:  0.97725\n",
      "Epoch  43  Train Loss:  0.072326496   Train Acc:  0.97725\n",
      "Epoch  44  Train Loss:  0.07219368   Train Acc:  0.9775\n",
      "Epoch  45  Train Loss:  0.07206249   Train Acc:  0.9774167\n",
      "Epoch  46  Train Loss:  0.07193279   Train Acc:  0.9775\n",
      "Epoch  47  Train Loss:  0.071804635   Train Acc:  0.9775\n",
      "Epoch  48  Train Loss:  0.071677975   Train Acc:  0.97758335\n",
      "Epoch  49  Train Loss:  0.07155283   Train Acc:  0.97758335\n"
     ]
    },
    {
     "data": {
      "image/png": "[encoded data removed]",
      "text/plain": [
       "<Figure size 432x288 with 1 Axes>"
      ]
     },
     "metadata": {
      "needs_background": "light"
     },
     "output_type": "display_data"
    },
    {
     "name": "stdout",
     "output_type": "stream",
     "text": [
      "Total time is:  4.47 seconds\n",
      "Final Test Accuracy  97.6\n"
     ]
    }
   ],
   "source": [
    "num_Iterations = 50\n",
    "# Start the session\n",
    "with tf.Session() as sess:\n",
    "        # create lists to plot the graph\n",
    "        train_loss_list = []\n",
    "        epoch_list = []\n",
    "        train_acc_list = []\n",
    "        start_time = time.time()\n",
    "        # Initialize all variables\n",
    "        sess.run(tf.global_variables_initializer())\n",
    "        \n",
    "        for i in range(num_Iterations):\n",
    "            _, train_loss, train_acc  = sess.run([optimizer, loss, accuracy], feed_dict={x:train_images_new, y_:train_labels_new})\n",
    "            train_loss_list.append(train_loss)\n",
    "            epoch_list.append(i)\n",
    "            train_acc_list.append(train_acc*100)\n",
    "\n",
    "            \n",
    "            print (\"Epoch \", i, \" Train Loss: \", train_loss, \"  Train Acc: \", train_acc)\n",
    "\n",
    "        duration = time.time() - start_time\n",
    "\n",
    "        pylab.plot(epoch_list, train_acc_list, '-ob', label = 'train_accuracy')\n",
    "        pylab.plot(epoch_list, train_loss_list, 'purple', label = 'train_loss_list')\n",
    "        pylab.legend(loc='bottom right')\n",
    "        plt.xlabel('Epochs')\n",
    "        pylab.show()\n",
    "        print(\"Total time is: \", round(duration, 2), \"seconds\")\n",
    "        print (\"Final Test Accuracy \", sess.run(accuracy*100, feed_dict={x:test_images_new, y_:test_labels_new}))"
   ]
  }
 ],
 "metadata": {
  "kernelspec": {
   "display_name": "Python 3",
   "language": "python",
   "name": "python3"
  },
  "language_info": {
   "codemirror_mode": {
    "name": "ipython",
    "version": 3
   },
   "file_extension": ".py",
   "mimetype": "text/x-python",
   "name": "python",
   "nbconvert_exporter": "python",
   "pygments_lexer": "ipython3",
   "version": "3.7.3"
  }
 },
 "nbformat": 4,
 "nbformat_minor": 2
}
