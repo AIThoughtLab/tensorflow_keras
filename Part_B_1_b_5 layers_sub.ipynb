{
 "cells": [
  {
   "cell_type": "code",
   "execution_count": null,
   "metadata": {},
   "outputs": [],
   "source": [
    "!pip3 install keras\n",
    "#!pip install --upgrade numpy"
   ]
  },
  {
   "cell_type": "code",
   "execution_count": null,
   "metadata": {},
   "outputs": [],
   "source": []
  },
  {
   "cell_type": "code",
   "execution_count": 1,
   "metadata": {},
   "outputs": [
    {
     "name": "stderr",
     "output_type": "stream",
     "text": [
      "Using TensorFlow backend.\n"
     ]
    }
   ],
   "source": [
    "from keras import models\n",
    "from keras import layers\n",
    "from keras import optimizers\n",
    "from sklearn import preprocessing\n",
    "import matplotlib.pyplot as plt\n",
    "import pylab \n",
    "%matplotlib inline\n",
    "import time\n",
    "import tensorflow as tf\n",
    "tf.reset_default_graph()\n",
    "import h5py\n",
    "import numpy as np"
   ]
  },
  {
   "cell_type": "code",
   "execution_count": 2,
   "metadata": {},
   "outputs": [
    {
     "name": "stdout",
     "output_type": "stream",
     "text": [
      "List of arrays in this file: \n",
      " KeysView(<HDF5 file \"data.h5\" (mode r)>)\n",
      "Shape of the array dataset_1: \n",
      " (200000, 785)\n",
      "Shape of the array dataset_2: \n",
      " (17000, 785)\n"
     ]
    }
   ],
   "source": [
    "def loadData():\n",
    "    with h5py.File('data.h5','r') as hf:\n",
    "        print('List of arrays in this file: \\n', hf.keys())\n",
    "        allTrain = hf.get('trainData')\n",
    "        allTest = hf.get('testData')\n",
    "        npTrain = np.array(allTrain)\n",
    "        npTest = np.array(allTest)\n",
    "        print('Shape of the array dataset_1: \\n', npTrain.shape)\n",
    "        print('Shape of the array dataset_2: \\n', npTest.shape)\n",
    "    return npTrain[:,:-1], npTrain[:, -1], npTest[:,:-1], npTest[:, -1]\n",
    "\n",
    "x_train, y_train, x_test, y_test = loadData()"
   ]
  },
  {
   "cell_type": "code",
   "execution_count": 3,
   "metadata": {},
   "outputs": [
    {
     "name": "stdout",
     "output_type": "stream",
     "text": [
      "x_train (200000, 784) y_train (200000,) x_test (17000, 784) y_test (17000,)\n"
     ]
    }
   ],
   "source": [
    "# Normalize the x_train and x_test dataset\n",
    "x_train, x_test = x_train / 255.0, x_test / 255.0\n",
    "print(\"x_train\", x_train.shape, \"y_train\", y_train.shape, \"x_test\", x_test.shape, \"y_test\", y_test.shape)"
   ]
  },
  {
   "cell_type": "code",
   "execution_count": 4,
   "metadata": {},
   "outputs": [
    {
     "name": "stdout",
     "output_type": "stream",
     "text": [
      "Train on 180000 samples, validate on 20000 samples\n",
      "Epoch 1/20\n",
      "180000/180000 [==============================] - 20s 113us/step - loss: 0.6392 - acc: 0.8096 - val_loss: 0.4745 - val_acc: 0.8536\n",
      "Epoch 2/20\n",
      "180000/180000 [==============================] - 19s 103us/step - loss: 0.4298 - acc: 0.8670 - val_loss: 0.4171 - val_acc: 0.8686\n",
      "Epoch 3/20\n",
      "180000/180000 [==============================] - 19s 106us/step - loss: 0.3730 - acc: 0.8844 - val_loss: 0.3936 - val_acc: 0.8790\n",
      "Epoch 4/20\n",
      "180000/180000 [==============================] - 19s 105us/step - loss: 0.3366 - acc: 0.8954 - val_loss: 0.3477 - val_acc: 0.8930\n",
      "Epoch 5/20\n",
      "180000/180000 [==============================] - 19s 106us/step - loss: 0.3093 - acc: 0.9035 - val_loss: 0.3399 - val_acc: 0.8947\n",
      "Epoch 6/20\n",
      "180000/180000 [==============================] - 19s 105us/step - loss: 0.2861 - acc: 0.9103 - val_loss: 0.3264 - val_acc: 0.9009\n",
      "Epoch 7/20\n",
      "180000/180000 [==============================] - 19s 106us/step - loss: 0.2650 - acc: 0.9173 - val_loss: 0.3248 - val_acc: 0.9008\n",
      "Epoch 8/20\n",
      "180000/180000 [==============================] - 20s 108us/step - loss: 0.2499 - acc: 0.9212 - val_loss: 0.3460 - val_acc: 0.8967\n",
      "Epoch 9/20\n",
      "180000/180000 [==============================] - 19s 107us/step - loss: 0.2345 - acc: 0.9253 - val_loss: 0.3199 - val_acc: 0.9040\n",
      "Epoch 10/20\n",
      "  1024/180000 [..............................] - ETA: 1:40 - loss: 0.2081 - acc: 0.9316"
     ]
    },
    {
     "name": "stderr",
     "output_type": "stream",
     "text": [
      "/home/m/anaconda3/envs/tensorflow_gpuenv/lib/python3.6/site-packages/keras/callbacks.py:122: UserWarning: Method on_batch_end() is slow compared to the batch update (0.181784). Check your callbacks.\n",
      "  % delta_t_median)\n"
     ]
    },
    {
     "name": "stdout",
     "output_type": "stream",
     "text": [
      "180000/180000 [==============================] - 19s 105us/step - loss: 0.2197 - acc: 0.9303 - val_loss: 0.3169 - val_acc: 0.9070\n",
      "Epoch 11/20\n",
      "180000/180000 [==============================] - 19s 104us/step - loss: 0.2059 - acc: 0.9340 - val_loss: 0.3393 - val_acc: 0.9077\n",
      "Epoch 12/20\n",
      "180000/180000 [==============================] - 18s 102us/step - loss: 0.1930 - acc: 0.9380 - val_loss: 0.3230 - val_acc: 0.9088\n",
      "Epoch 13/20\n",
      "180000/180000 [==============================] - 19s 103us/step - loss: 0.1793 - acc: 0.9423 - val_loss: 0.3489 - val_acc: 0.9073\n",
      "Epoch 14/20\n",
      "180000/180000 [==============================] - 19s 103us/step - loss: 0.1675 - acc: 0.9457 - val_loss: 0.3406 - val_acc: 0.9076\n",
      "Epoch 15/20\n",
      "180000/180000 [==============================] - 19s 104us/step - loss: 0.1566 - acc: 0.9493 - val_loss: 0.3553 - val_acc: 0.9073\n",
      "Epoch 16/20\n",
      "180000/180000 [==============================] - 19s 104us/step - loss: 0.1470 - acc: 0.9523 - val_loss: 0.3601 - val_acc: 0.9106\n",
      "Epoch 17/20\n",
      "180000/180000 [==============================] - 19s 106us/step - loss: 0.1362 - acc: 0.9556 - val_loss: 0.3594 - val_acc: 0.9092\n",
      "Epoch 18/20\n",
      "180000/180000 [==============================] - 19s 105us/step - loss: 0.1287 - acc: 0.9582 - val_loss: 0.3742 - val_acc: 0.9084\n",
      "Epoch 19/20\n",
      "180000/180000 [==============================] - 19s 105us/step - loss: 0.1183 - acc: 0.9614 - val_loss: 0.4164 - val_acc: 0.9033\n",
      "Epoch 20/20\n",
      "180000/180000 [==============================] - 19s 106us/step - loss: 0.1099 - acc: 0.9641 - val_loss: 0.4211 - val_acc: 0.9085\n",
      "Total time is:  380.07 seconds\n"
     ]
    }
   ],
   "source": [
    "model = models.Sequential()\n",
    "model.add(layers.Dense(800, activation='relu', input_shape=(784,), regularizers.l1_l2(l1=0.01, l2=0.01)))\n",
    "model.add(layers.Dense(600, activation='relu'))\n",
    "model.add(layers.Dense(400, activation='relu'))\n",
    "model.add(layers.Dense(200, activation='relu'))\n",
    "model.add(layers.Dense(10, activation='softmax'))\n",
    "# sgd = optimizers.SGD(lr=0.001, decay=1e-6, momentum=0.9, nesterov=True)         \n",
    "model.compile(optimizer='adam', loss='sparse_categorical_crossentropy', metrics=['accuracy'])\n",
    "#model.compile(loss='mean_squared_error', optimizer=sgd)\n",
    "start_time = time.time()\n",
    "history = model.fit(x_train, y_train, epochs=20, batch_size = 256, validation_split=0.1)\n",
    "duration = time.time() - start_time\n",
    "print(\"Total time is: \", round(duration, 2), \"seconds\")"
   ]
  },
  {
   "cell_type": "code",
   "execution_count": 5,
   "metadata": {},
   "outputs": [
    {
     "name": "stdout",
     "output_type": "stream",
     "text": [
      "Keys:  dict_keys(['val_loss', 'val_acc', 'loss', 'acc'])\n"
     ]
    },
    {
     "data": {
      "image/png": "[encoded data removed]",
      "text/plain": [
       "<Figure size 432x288 with 1 Axes>"
      ]
     },
     "metadata": {
      "needs_background": "light"
     },
     "output_type": "display_data"
    }
   ],
   "source": [
    "history_dict = history.history\n",
    "print(\"Keys: \", history_dict.keys())\n",
    "loss_values = history_dict['loss']\n",
    "val_loss_values = history_dict['val_loss']\n",
    "acc_values = history_dict['acc']\n",
    "val_acc_values = history_dict['val_acc']\n",
    "\n",
    "epochs = range(1, len(history_dict['acc'])+1)\n",
    "\n",
    "def plot_results(loss_values,val_loss_values, epochs, **kwargs):\n",
    "  label1 = kwargs.pop('label1')\n",
    "  plt.plot(epochs, loss_values, 'bo',label = label1)\n",
    "  label2 = kwargs.pop('label2')\n",
    "  plt.plot(epochs, val_loss_values, 'r',label = label2)\n",
    "  title  = kwargs.pop('title')\n",
    "  xlabel = kwargs.pop('xlabel')\n",
    "  ylabel = kwargs.pop('ylabel')\n",
    "  plt.title(title)\n",
    "  plt.xlabel(xlabel)\n",
    "  plt.ylabel(ylabel)\n",
    "  plt.legend()\n",
    "  plt.show()\n",
    "  \n",
    "plot_para = {'title': 'Training and Validation Loss', 'xlabel':'Epochs', 'ylabel': 'Loss', 'label1': 'Training Loss', 'label2': 'Validation Loss'}\n",
    "plot_results(loss_values,val_loss_values, epochs, **plot_para) "
   ]
  },
  {
   "cell_type": "code",
   "execution_count": 6,
   "metadata": {},
   "outputs": [
    {
     "data": {
      "image/png": "[encoded data removed]",
      "text/plain": [
       "<Figure size 432x288 with 1 Axes>"
      ]
     },
     "metadata": {
      "needs_background": "light"
     },
     "output_type": "display_data"
    }
   ],
   "source": [
    "plot_para = {'title': 'Training and Validation Accuracy', 'xlabel':'Epochs', 'ylabel': 'acc', 'label1': 'Training acc', 'label2': 'Validation acc'}\n",
    "plot_results(acc_values,val_acc_values, epochs, **plot_para) "
   ]
  },
  {
   "cell_type": "code",
   "execution_count": 7,
   "metadata": {},
   "outputs": [
    {
     "name": "stdout",
     "output_type": "stream",
     "text": [
      "17000/17000 [==============================] - 1s 54us/step\n",
      "[0.3434694026436876, 0.9274117647058824]\n"
     ]
    }
   ],
   "source": [
    "results = model.evaluate(x_test, y_test)\n",
    "print (results)"
   ]
  },
  {
   "cell_type": "code",
   "execution_count": null,
   "metadata": {},
   "outputs": [],
   "source": []
  }
 ],
 "metadata": {
  "kernelspec": {
   "display_name": "Python 3",
   "language": "python",
   "name": "python3"
  },
  "language_info": {
   "codemirror_mode": {
    "name": "ipython",
    "version": 3
   },
   "file_extension": ".py",
   "mimetype": "text/x-python",
   "name": "python",
   "nbconvert_exporter": "python",
   "pygments_lexer": "ipython3",
   "version": "3.6.8"
  }
 },
 "nbformat": 4,
 "nbformat_minor": 2
}
