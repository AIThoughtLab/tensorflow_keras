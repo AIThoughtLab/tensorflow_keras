{
 "cells": [
  {
   "cell_type": "code",
   "execution_count": 5,
   "metadata": {},
   "outputs": [
    {
     "name": "stdout",
     "output_type": "stream",
     "text": [
      "Collecting keras\n",
      "  Using cached https://files.pythonhosted.org/packages/5e/10/aa32dad071ce52b5502266b5c659451cfd6ffcbf14e6c8c4f16c0ff5aaab/Keras-2.2.4-py2.py3-none-any.whl\n",
      "Requirement already satisfied: h5py in /usr/local/envs/py3env/lib/python3.5/site-packages (from keras) (2.9.0)\n",
      "Collecting keras-applications>=1.0.6 (from keras)\n",
      "  Using cached https://files.pythonhosted.org/packages/90/85/64c82949765cfb246bbdaf5aca2d55f400f792655927a017710a78445def/Keras_Applications-1.0.7-py2.py3-none-any.whl\n",
      "Requirement already satisfied: six>=1.9.0 in /usr/local/envs/py3env/lib/python3.5/site-packages (from keras) (1.10.0)\n",
      "Requirement already satisfied: scipy>=0.14 in /usr/local/envs/py3env/lib/python3.5/site-packages (from keras) (1.0.0)\n",
      "Collecting keras-preprocessing>=1.0.5 (from keras)\n",
      "  Using cached https://files.pythonhosted.org/packages/c0/bf/0315ef6a9fd3fc2346e85b0ff1f5f83ca17073f2c31ac719ab2e4da0d4a3/Keras_Preprocessing-1.0.9-py2.py3-none-any.whl\n",
      "Requirement already satisfied: pyyaml in /usr/local/envs/py3env/lib/python3.5/site-packages (from keras) (3.13)\n",
      "Requirement already satisfied: numpy>=1.9.1 in /usr/local/envs/py3env/lib/python3.5/site-packages (from keras) (1.14.0)\n",
      "Installing collected packages: keras-applications, keras-preprocessing, keras\n",
      "Successfully installed keras-2.2.4 keras-applications-1.0.7 keras-preprocessing-1.0.9\n"
     ]
    }
   ],
   "source": [
    "!pip install keras"
   ]
  },
  {
   "cell_type": "code",
   "execution_count": 6,
   "metadata": {},
   "outputs": [
    {
     "name": "stderr",
     "output_type": "stream",
     "text": [
      "Using TensorFlow backend.\n"
     ]
    }
   ],
   "source": [
    "from keras import models\n",
    "from keras import layers\n",
    "from keras.optimizers import sgd\n",
    "from sklearn import preprocessing\n",
    "import matplotlib.pyplot as plt\n",
    "import pylab \n",
    "%matplotlib inline\n",
    "import time\n",
    "import tensorflow as tf\n",
    "tf.reset_default_graph()\n",
    "import h5py\n",
    "import numpy as np"
   ]
  },
  {
   "cell_type": "code",
   "execution_count": 7,
   "metadata": {},
   "outputs": [
    {
     "name": "stdout",
     "output_type": "stream",
     "text": [
      "List of arrays in this file: \n",
      " <KeysViewHDF5 ['testData', 'trainData']>\n",
      "Shape of the array dataset_1: \n",
      " (200000, 785)\n",
      "Shape of the array dataset_2: \n",
      " (17000, 785)\n"
     ]
    }
   ],
   "source": [
    "def loadData():\n",
    "    with h5py.File('data.h5','r') as hf:\n",
    "        print('List of arrays in this file: \\n', hf.keys())\n",
    "        allTrain = hf.get('trainData')\n",
    "        allTest = hf.get('testData')\n",
    "        npTrain = np.array(allTrain)\n",
    "        npTest = np.array(allTest)\n",
    "        print('Shape of the array dataset_1: \\n', npTrain.shape)\n",
    "        print('Shape of the array dataset_2: \\n', npTest.shape)\n",
    "    return npTrain[:,:-1], npTrain[:, -1], npTest[:,:-1], npTest[:, -1]\n",
    "\n",
    "x_train, y_train, x_test, y_test = loadData()"
   ]
  },
  {
   "cell_type": "code",
   "execution_count": 8,
   "metadata": {},
   "outputs": [
    {
     "name": "stdout",
     "output_type": "stream",
     "text": [
      "x_train (200000, 784) y_train (200000,) x_test (17000, 784) y_test (17000,)\n"
     ]
    }
   ],
   "source": [
    "# Normalize the x_train and x_test dataset\n",
    "x_train, x_test = x_train / 255.0, x_test / 255.0\n",
    "print(\"x_train\", x_train.shape, \"y_train\", y_train.shape, \"x_test\", x_test.shape, \"y_test\", y_test.shape)"
   ]
  },
  {
   "cell_type": "code",
   "execution_count": 9,
   "metadata": {},
   "outputs": [
    {
     "name": "stdout",
     "output_type": "stream",
     "text": [
      "Train on 180000 samples, validate on 20000 samples\n",
      "Epoch 1/30\n",
      "180000/180000 [==============================] - 22s 124us/step - loss: 2.1674 - acc: 0.6460 - val_loss: 2.0410 - val_acc: 0.7019\n",
      "Epoch 2/30\n",
      "180000/180000 [==============================] - 3s 14us/step - loss: 1.9294 - acc: 0.7134 - val_loss: 1.8265 - val_acc: 0.7188\n",
      "Epoch 3/30\n",
      "180000/180000 [==============================] - 3s 15us/step - loss: 1.7343 - acc: 0.7271 - val_loss: 1.6505 - val_acc: 0.7345\n",
      "Epoch 4/30\n",
      "180000/180000 [==============================] - 3s 16us/step - loss: 1.5745 - acc: 0.7392 - val_loss: 1.5060 - val_acc: 0.7438\n",
      "Epoch 5/30\n",
      "180000/180000 [==============================] - 3s 16us/step - loss: 1.4432 - acc: 0.7485 - val_loss: 1.3871 - val_acc: 0.7522\n",
      "Epoch 6/30\n",
      "180000/180000 [==============================] - 3s 16us/step - loss: 1.3350 - acc: 0.7572 - val_loss: 1.2887 - val_acc: 0.7582\n",
      "Epoch 7/30\n",
      "180000/180000 [==============================] - 3s 15us/step - loss: 1.2454 - acc: 0.7635 - val_loss: 1.2070 - val_acc: 0.7632\n",
      "Epoch 8/30\n",
      "180000/180000 [==============================] - 3s 14us/step - loss: 1.1706 - acc: 0.7691 - val_loss: 1.1385 - val_acc: 0.7681\n",
      "Epoch 9/30\n",
      "180000/180000 [==============================] - 3s 14us/step - loss: 1.1080 - acc: 0.7736 - val_loss: 1.0809 - val_acc: 0.7725\n",
      "Epoch 10/30\n",
      "180000/180000 [==============================] - 3s 14us/step - loss: 1.0553 - acc: 0.7779 - val_loss: 1.0322 - val_acc: 0.7758\n",
      "Epoch 11/30\n",
      "180000/180000 [==============================] - 3s 14us/step - loss: 1.0105 - acc: 0.7813 - val_loss: 0.9908 - val_acc: 0.7793\n",
      "Epoch 12/30\n",
      "180000/180000 [==============================] - 3s 15us/step - loss: 0.9725 - acc: 0.7848 - val_loss: 0.9553 - val_acc: 0.7821\n",
      "Epoch 13/30\n",
      "180000/180000 [==============================] - 3s 14us/step - loss: 0.9398 - acc: 0.7874 - val_loss: 0.9250 - val_acc: 0.7849\n",
      "Epoch 14/30\n",
      "180000/180000 [==============================] - 3s 15us/step - loss: 0.9118 - acc: 0.7899 - val_loss: 0.8988 - val_acc: 0.7874\n",
      "Epoch 15/30\n",
      "180000/180000 [==============================] - 3s 15us/step - loss: 0.8875 - acc: 0.7926 - val_loss: 0.8760 - val_acc: 0.7899\n",
      "Epoch 16/30\n",
      "180000/180000 [==============================] - 3s 14us/step - loss: 0.8665 - acc: 0.7945 - val_loss: 0.8563 - val_acc: 0.7925\n",
      "Epoch 17/30\n",
      "180000/180000 [==============================] - 3s 14us/step - loss: 0.8481 - acc: 0.7965 - val_loss: 0.8389 - val_acc: 0.7946\n",
      "Epoch 18/30\n",
      "180000/180000 [==============================] - 3s 14us/step - loss: 0.8320 - acc: 0.7983 - val_loss: 0.8236 - val_acc: 0.7972\n",
      "Epoch 19/30\n",
      "180000/180000 [==============================] - 3s 15us/step - loss: 0.8178 - acc: 0.7999 - val_loss: 0.8102 - val_acc: 0.7991\n",
      "Epoch 20/30\n",
      "180000/180000 [==============================] - 3s 14us/step - loss: 0.8053 - acc: 0.8015 - val_loss: 0.7983 - val_acc: 0.8007\n",
      "Epoch 21/30\n",
      "180000/180000 [==============================] - 3s 14us/step - loss: 0.7942 - acc: 0.8030 - val_loss: 0.7877 - val_acc: 0.8024\n",
      "Epoch 22/30\n",
      "180000/180000 [==============================] - 3s 15us/step - loss: 0.7843 - acc: 0.8044 - val_loss: 0.7781 - val_acc: 0.8040\n",
      "Epoch 23/30\n",
      "180000/180000 [==============================] - 3s 14us/step - loss: 0.7754 - acc: 0.8056 - val_loss: 0.7696 - val_acc: 0.8054\n",
      "Epoch 24/30\n",
      "180000/180000 [==============================] - 3s 14us/step - loss: 0.7674 - acc: 0.8067 - val_loss: 0.7620 - val_acc: 0.8063\n",
      "Epoch 25/30\n",
      "180000/180000 [==============================] - 3s 14us/step - loss: 0.7602 - acc: 0.8077 - val_loss: 0.7550 - val_acc: 0.8068\n",
      "Epoch 26/30\n",
      "180000/180000 [==============================] - 3s 14us/step - loss: 0.7537 - acc: 0.8088 - val_loss: 0.7488 - val_acc: 0.8082\n",
      "Epoch 27/30\n",
      "180000/180000 [==============================] - 3s 14us/step - loss: 0.7478 - acc: 0.8095 - val_loss: 0.7430 - val_acc: 0.8095\n",
      "Epoch 28/30\n",
      "180000/180000 [==============================] - 3s 14us/step - loss: 0.7424 - acc: 0.8105 - val_loss: 0.7377 - val_acc: 0.8103\n",
      "Epoch 29/30\n",
      "180000/180000 [==============================] - 3s 14us/step - loss: 0.7375 - acc: 0.8111 - val_loss: 0.7330 - val_acc: 0.8111\n",
      "Epoch 30/30\n",
      "180000/180000 [==============================] - 3s 14us/step - loss: 0.7330 - acc: 0.8118 - val_loss: 0.7286 - val_acc: 0.8115\n"
     ]
    }
   ],
   "source": [
    "model = models.Sequential()\n",
    "model.add(layers.Dense(10, activation='softmax', input_shape=(784,)))\n",
    "model.compile(optimizer='adam', loss='sparse_categorical_crossentropy', metrics=['accuracy'])\n",
    "history = model.fit(x_train, y_train, epochs=30, batch_size = 256, validation_split=0.1)"
   ]
  },
  {
   "cell_type": "code",
   "execution_count": 29,
   "metadata": {},
   "outputs": [
    {
     "name": "stdout",
     "output_type": "stream",
     "text": [
      "Keys:  dict_keys(['val_loss', 'val_acc', 'loss', 'acc'])\n"
     ]
    },
    {
     "name": "stderr",
     "output_type": "stream",
     "text": [
      "/usr/local/envs/py3env/lib/python3.5/site-packages/matplotlib/font_manager.py:1320: UserWarning: findfont: Font family ['sans-serif'] not found. Falling back to DejaVu Sans\n",
      "  (prop.get_family(), self.defaultFamily[fontext]))\n"
     ]
    },
    {
     "data": {
      "image/png": "[encoded data removed]",
      "text/plain": [
       "<matplotlib.figure.Figure at 0x7f90dc42cf98>"
      ]
     },
     "metadata": {},
     "output_type": "display_data"
    }
   ],
   "source": [
    "history_dict = history.history\n",
    "print(\"Keys: \", history_dict.keys())\n",
    "loss_values = history_dict['loss']\n",
    "val_loss_values = history_dict['val_loss']\n",
    "acc_values = history_dict['acc']\n",
    "val_acc_values = history_dict['val_acc']\n",
    "\n",
    "epochs = range(1, len(history_dict['acc'])+1)\n",
    "\n",
    "def plot_results(loss_values,val_loss_values, epochs, **kwargs):\n",
    "  label1 = kwargs.pop('label1')\n",
    "  plt.plot(epochs, loss_values, 'bo',label = label1)\n",
    "  label2 = kwargs.pop('label2')\n",
    "  plt.plot(epochs, val_loss_values, 'r',label = label2)\n",
    "  title  = kwargs.pop('title')\n",
    "  xlabel = kwargs.pop('xlabel')\n",
    "  ylabel = kwargs.pop('ylabel')\n",
    "  plt.title(title)\n",
    "  plt.xlabel(xlabel)\n",
    "  plt.ylabel(ylabel)\n",
    "  plt.legend()\n",
    "  plt.show()\n",
    "  \n",
    "plot_para = {'title': 'Training and Validation Loss', 'xlabel':'Epochs', 'ylabel': 'Loss', 'label1': 'Training Loss', 'label2': 'Validation Loss'}\n",
    "plot_results(loss_values,val_loss_values, epochs, **plot_para) "
   ]
  },
  {
   "cell_type": "code",
   "execution_count": 30,
   "metadata": {},
   "outputs": [
    {
     "name": "stderr",
     "output_type": "stream",
     "text": [
      "/usr/local/envs/py3env/lib/python3.5/site-packages/matplotlib/font_manager.py:1320: UserWarning: findfont: Font family ['sans-serif'] not found. Falling back to DejaVu Sans\n",
      "  (prop.get_family(), self.defaultFamily[fontext]))\n"
     ]
    },
    {
     "data": {
      "image/png": "[encoded data removed]",
      "text/plain": [
       "<matplotlib.figure.Figure at 0x7f90dc467358>"
      ]
     },
     "metadata": {},
     "output_type": "display_data"
    }
   ],
   "source": [
    "plot_para = {'title': 'Training and Validation Accuracy', 'xlabel':'Epochs', 'ylabel': 'acc', 'label1': 'Training acc', 'label2': 'Validation acc'}\n",
    "plot_results(acc_values,val_acc_values, epochs, **plot_para) "
   ]
  },
  {
   "cell_type": "code",
   "execution_count": 31,
   "metadata": {},
   "outputs": [
    {
     "name": "stdout",
     "output_type": "stream",
     "text": [
      "17000/17000 [==============================] - 1s 39us/step\n",
      "[0.6542630269948174, 0.8342941176470589]\n"
     ]
    }
   ],
   "source": [
    "results = model.evaluate(x_test, y_test)\n",
    "print (results)"
   ]
  },
  {
   "cell_type": "code",
   "execution_count": null,
   "metadata": {},
   "outputs": [],
   "source": []
  }
 ],
 "metadata": {
  "kernelspec": {
   "display_name": "Python 3",
   "language": "python",
   "name": "python3"
  },
  "language_info": {
   "codemirror_mode": {
    "name": "ipython",
    "version": 3
   },
   "file_extension": ".py",
   "mimetype": "text/x-python",
   "name": "python",
   "nbconvert_exporter": "python",
   "pygments_lexer": "ipython3",
   "version": "3.7.3"
  }
 },
 "nbformat": 4,
 "nbformat_minor": 2
}
