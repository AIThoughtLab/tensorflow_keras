{
 "cells": [
  {
   "cell_type": "code",
   "execution_count": null,
   "metadata": {},
   "outputs": [],
   "source": [
    "!pip3 install keras\n",
    "#!pip install --upgrade numpy"
   ]
  },
  {
   "cell_type": "code",
   "execution_count": null,
   "metadata": {},
   "outputs": [],
   "source": []
  },
  {
   "cell_type": "code",
   "execution_count": 1,
   "metadata": {},
   "outputs": [
    {
     "name": "stderr",
     "output_type": "stream",
     "text": [
      "Using TensorFlow backend.\n"
     ]
    }
   ],
   "source": [
    "from keras import models\n",
    "from keras import layers\n",
    "from keras import optimizers\n",
    "from sklearn import preprocessing\n",
    "import matplotlib.pyplot as plt\n",
    "import pylab \n",
    "%matplotlib inline\n",
    "import time\n",
    "import tensorflow as tf\n",
    "tf.reset_default_graph()\n",
    "import h5py\n",
    "import numpy as np\n",
    "from keras import regularizers"
   ]
  },
  {
   "cell_type": "code",
   "execution_count": 2,
   "metadata": {},
   "outputs": [
    {
     "name": "stdout",
     "output_type": "stream",
     "text": [
      "List of arrays in this file: \n",
      " KeysView(<HDF5 file \"data.h5\" (mode r)>)\n",
      "Shape of the array dataset_1: \n",
      " (200000, 785)\n",
      "Shape of the array dataset_2: \n",
      " (17000, 785)\n"
     ]
    }
   ],
   "source": [
    "def loadData():\n",
    "    with h5py.File('data.h5','r') as hf:\n",
    "        print('List of arrays in this file: \\n', hf.keys())\n",
    "        allTrain = hf.get('trainData')\n",
    "        allTest = hf.get('testData')\n",
    "        npTrain = np.array(allTrain)\n",
    "        npTest = np.array(allTest)\n",
    "        print('Shape of the array dataset_1: \\n', npTrain.shape)\n",
    "        print('Shape of the array dataset_2: \\n', npTest.shape)\n",
    "    return npTrain[:,:-1], npTrain[:, -1], npTest[:,:-1], npTest[:, -1]\n",
    "\n",
    "x_train, y_train, x_test, y_test = loadData()"
   ]
  },
  {
   "cell_type": "code",
   "execution_count": 3,
   "metadata": {},
   "outputs": [
    {
     "name": "stdout",
     "output_type": "stream",
     "text": [
      "x_train (200000, 784) y_train (200000,) x_test (17000, 784) y_test (17000,)\n"
     ]
    }
   ],
   "source": [
    "# Normalize the x_train and x_test dataset\n",
    "x_train, x_test = x_train / 255.0, x_test / 255.0\n",
    "print(\"x_train\", x_train.shape, \"y_train\", y_train.shape, \"x_test\", x_test.shape, \"y_test\", y_test.shape)"
   ]
  },
  {
   "cell_type": "code",
   "execution_count": 12,
   "metadata": {},
   "outputs": [
    {
     "name": "stdout",
     "output_type": "stream",
     "text": [
      "Train on 180000 samples, validate on 20000 samples\n",
      "Epoch 1/20\n",
      "180000/180000 [==============================] - 11s 64us/step - loss: 0.7816 - acc: 0.7658 - val_loss: 0.5149 - val_acc: 0.8443\n",
      "Epoch 2/20\n",
      "180000/180000 [==============================] - 11s 62us/step - loss: 0.5264 - acc: 0.8425 - val_loss: 0.4589 - val_acc: 0.8590\n",
      "Epoch 3/20\n",
      "180000/180000 [==============================] - 11s 63us/step - loss: 0.4823 - acc: 0.8548 - val_loss: 0.4251 - val_acc: 0.8688\n",
      "Epoch 4/20\n",
      "180000/180000 [==============================] - 11s 63us/step - loss: 0.4553 - acc: 0.8620 - val_loss: 0.4084 - val_acc: 0.8721\n",
      "Epoch 5/20\n",
      "180000/180000 [==============================] - 11s 63us/step - loss: 0.4341 - acc: 0.8685 - val_loss: 0.3967 - val_acc: 0.8784\n",
      "Epoch 6/20\n",
      "180000/180000 [==============================] - 12s 64us/step - loss: 0.4187 - acc: 0.8723 - val_loss: 0.3809 - val_acc: 0.8826\n",
      "Epoch 7/20\n",
      "180000/180000 [==============================] - 12s 65us/step - loss: 0.4069 - acc: 0.8766 - val_loss: 0.3704 - val_acc: 0.8862\n",
      "Epoch 8/20\n",
      "180000/180000 [==============================] - 12s 65us/step - loss: 0.3942 - acc: 0.8798 - val_loss: 0.3592 - val_acc: 0.8897\n",
      "Epoch 9/20\n",
      "180000/180000 [==============================] - 12s 64us/step - loss: 0.3849 - acc: 0.8831 - val_loss: 0.3505 - val_acc: 0.8921\n",
      "Epoch 10/20\n",
      "180000/180000 [==============================] - 12s 64us/step - loss: 0.3769 - acc: 0.8849 - val_loss: 0.3481 - val_acc: 0.8935\n",
      "Epoch 11/20\n",
      "180000/180000 [==============================] - 12s 66us/step - loss: 0.3718 - acc: 0.8864 - val_loss: 0.3430 - val_acc: 0.8953\n",
      "Epoch 12/20\n",
      "180000/180000 [==============================] - 13s 73us/step - loss: 0.3641 - acc: 0.8888 - val_loss: 0.3397 - val_acc: 0.8954\n",
      "Epoch 13/20\n",
      "180000/180000 [==============================] - 13s 72us/step - loss: 0.3607 - acc: 0.8893 - val_loss: 0.3319 - val_acc: 0.8982\n",
      "Epoch 14/20\n",
      "180000/180000 [==============================] - 13s 73us/step - loss: 0.3528 - acc: 0.8925 - val_loss: 0.3323 - val_acc: 0.8996\n",
      "Epoch 15/20\n",
      "180000/180000 [==============================] - 13s 73us/step - loss: 0.3491 - acc: 0.8933 - val_loss: 0.3307 - val_acc: 0.8995\n",
      "Epoch 16/20\n",
      "180000/180000 [==============================] - 13s 72us/step - loss: 0.3452 - acc: 0.8941 - val_loss: 0.3294 - val_acc: 0.8991\n",
      "Epoch 17/20\n",
      "180000/180000 [==============================] - 13s 73us/step - loss: 0.3407 - acc: 0.8955 - val_loss: 0.3233 - val_acc: 0.9019\n",
      "Epoch 18/20\n",
      "180000/180000 [==============================] - 13s 73us/step - loss: 0.3383 - acc: 0.8955 - val_loss: 0.3213 - val_acc: 0.9024\n",
      "Epoch 19/20\n",
      "180000/180000 [==============================] - 13s 73us/step - loss: 0.3348 - acc: 0.8968 - val_loss: 0.3187 - val_acc: 0.9029\n",
      "Epoch 20/20\n",
      "180000/180000 [==============================] - 13s 74us/step - loss: 0.3308 - acc: 0.8985 - val_loss: 0.3170 - val_acc: 0.9031\n",
      "Total time is:  244.97 seconds\n"
     ]
    }
   ],
   "source": [
    "model = models.Sequential()\n",
    "model.add(layers.Dense(600, activation='relu', input_shape=(784,)))\n",
    "model.add(layers.Dropout(0.5))\n",
    "model.add(layers.Dense(400, activation='relu'))\n",
    "model.add(layers.Dropout(0.5))\n",
    "model.add(layers.Dense(200, activation='relu'))\n",
    "model.add(layers.Dropout(0.5))\n",
    "model.add(layers.Dense(10, activation='softmax'))\n",
    "# sgd = optimizers.SGD(lr=0.001, decay=1e-6, momentum=0.9, nesterov=True)         \n",
    "model.compile(optimizer='adam', loss='sparse_categorical_crossentropy', metrics=['accuracy'])\n",
    "#model.compile(loss='mean_squared_error', optimizer=sgd)\n",
    "start_time = time.time()\n",
    "history = model.fit(x_train, y_train, epochs=20, batch_size = 256, validation_split=0.1)\n",
    "duration = time.time() - start_time\n",
    "print(\"Total time is: \", round(duration, 2), \"seconds\")"
   ]
  },
  {
   "cell_type": "code",
   "execution_count": 13,
   "metadata": {},
   "outputs": [
    {
     "name": "stdout",
     "output_type": "stream",
     "text": [
      "Keys:  dict_keys(['val_loss', 'val_acc', 'loss', 'acc'])\n"
     ]
    },
    {
     "data": {
      "image/png": "[encoded data removed]",
      "text/plain": [
       "<Figure size 432x288 with 1 Axes>"
      ]
     },
     "metadata": {
      "needs_background": "light"
     },
     "output_type": "display_data"
    }
   ],
   "source": [
    "history_dict = history.history\n",
    "print(\"Keys: \", history_dict.keys())\n",
    "loss_values = history_dict['loss']\n",
    "val_loss_values = history_dict['val_loss']\n",
    "acc_values = history_dict['acc']\n",
    "val_acc_values = history_dict['val_acc']\n",
    "\n",
    "epochs = range(1, len(history_dict['acc'])+1)\n",
    "\n",
    "def plot_results(loss_values,val_loss_values, epochs, **kwargs):\n",
    "  label1 = kwargs.pop('label1')\n",
    "  plt.plot(epochs, loss_values, 'bo',label = label1)\n",
    "  label2 = kwargs.pop('label2')\n",
    "  plt.plot(epochs, val_loss_values, 'r',label = label2)\n",
    "  title  = kwargs.pop('title')\n",
    "  xlabel = kwargs.pop('xlabel')\n",
    "  ylabel = kwargs.pop('ylabel')\n",
    "  plt.title(title)\n",
    "  plt.xlabel(xlabel)\n",
    "  plt.ylabel(ylabel)\n",
    "  plt.legend()\n",
    "  plt.show()\n",
    "  \n",
    "plot_para = {'title': 'Training and Validation Loss', 'xlabel':'Epochs', 'ylabel': 'Loss', 'label1': 'Training Loss', 'label2': 'Validation Loss'}\n",
    "plot_results(loss_values,val_loss_values, epochs, **plot_para) "
   ]
  },
  {
   "cell_type": "code",
   "execution_count": 14,
   "metadata": {},
   "outputs": [
    {
     "data": {
      "image/png": "[encoded data removed]",
      "text/plain": [
       "<Figure size 432x288 with 1 Axes>"
      ]
     },
     "metadata": {
      "needs_background": "light"
     },
     "output_type": "display_data"
    }
   ],
   "source": [
    "plot_para = {'title': 'Training and Validation Accuracy', 'xlabel':'Epochs', 'ylabel': 'acc', 'label1': 'Training acc', 'label2': 'Validation acc'}\n",
    "plot_results(acc_values,val_acc_values, epochs, **plot_para) "
   ]
  },
  {
   "cell_type": "code",
   "execution_count": 15,
   "metadata": {},
   "outputs": [
    {
     "name": "stdout",
     "output_type": "stream",
     "text": [
      "17000/17000 [==============================] - 1s 34us/step\n",
      "[0.2500391296735581, 0.9235882352941176]\n"
     ]
    }
   ],
   "source": [
    "results = model.evaluate(x_test, y_test)\n",
    "print (results)"
   ]
  },
  {
   "cell_type": "code",
   "execution_count": null,
   "metadata": {},
   "outputs": [],
   "source": []
  }
 ],
 "metadata": {
  "kernelspec": {
   "display_name": "Python 3",
   "language": "python",
   "name": "python3"
  },
  "language_info": {
   "codemirror_mode": {
    "name": "ipython",
    "version": 3
   },
   "file_extension": ".py",
   "mimetype": "text/x-python",
   "name": "python",
   "nbconvert_exporter": "python",
   "pygments_lexer": "ipython3",
   "version": "3.6.8"
  }
 },
 "nbformat": 4,
 "nbformat_minor": 2
}
